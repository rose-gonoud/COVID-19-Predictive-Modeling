{
 "cells": [
  {
   "cell_type": "code",
   "execution_count": 1,
   "metadata": {},
   "outputs": [],
   "source": [
    "# Dependencies\n",
    "# ----------------------------------\n",
    "import pandas as pd\n",
    "import os\n",
    "from numpy import genfromtxt\n",
    "from time import time\n",
    "from datetime import datetime\n",
    "from sqlalchemy.ext.declarative import declarative_base\n",
    "from sqlalchemy.ext.automap import automap_base\n",
    "from sqlalchemy import create_engine\n",
    "from sqlalchemy.orm import sessionmaker, Session\n",
    "\n",
    "# Allow us to declare column types\n",
    "from sqlalchemy import Column, Integer, String, Float, Date"
   ]
  },
  {
   "cell_type": "code",
   "execution_count": null,
   "metadata": {},
   "outputs": [],
   "source": [
    "# DOLunemp = pd.read_excel(\"\")"
   ]
  },
  {
   "cell_type": "code",
   "execution_count": null,
   "metadata": {},
   "outputs": [],
   "source": []
  },
  {
   "cell_type": "code",
   "execution_count": null,
   "metadata": {},
   "outputs": [],
   "source": []
  },
  {
   "cell_type": "code",
   "execution_count": null,
   "metadata": {},
   "outputs": [],
   "source": []
  },
  {
   "cell_type": "code",
   "execution_count": null,
   "metadata": {},
   "outputs": [],
   "source": [
    "Base = automap_base()\n",
    "print(Base)\n",
    "\n",
    "engine = create_engine('sqlite:///Project2.db')\n",
    "Base.prepare(engine, reflect=True)\n",
    "\n",
    "unemployment = Base.classes.unemploymentData\n",
    "print(unemployment)"
   ]
  },
  {
   "cell_type": "code",
   "execution_count": null,
   "metadata": {},
   "outputs": [],
   "source": [
    "# in case the database needs to be dropped and then regenerated, or just one table, etc...\n",
    "# engine = create_engine('sqlite:///Project2.db')\n",
    "\n",
    "# Base.classes.unemploymentData.__table__.drop(engine)"
   ]
  },
  {
   "cell_type": "code",
   "execution_count": null,
   "metadata": {},
   "outputs": [],
   "source": [
    "# Sets an object to utilize the default declarative base\n",
    "Base = declarative_base()\n",
    "\n",
    "\n",
    "# Creates Classes which will serve as the anchor points for our Tables\n",
    "class unemployment(Base):\n",
    "    __tablename__ = 'unemploymentData'\n",
    "    id = Column(Integer, primary_key=True)\n",
    "    state = Column(String(20))\n",
    "    state_abbr = Column(String(3))\n",
    "    file_week_ended = Column(Date)\n",
    "    initial_claims = Column(Integer)\n",
    "    reflecting_week_ended = Column(Date)\n",
    "    continued_claims = Column(Integer)\n",
    "    covered_employment = Column(Integer)\n",
    "    insured_unemployment_rate = Column(Float)"
   ]
  },
  {
   "cell_type": "code",
   "execution_count": null,
   "metadata": {},
   "outputs": [],
   "source": [
    "session = Session(engine)\n",
    "t = time()\n",
    "\n",
    "# adding a new packet of just-released data\n",
    "try:\n",
    "#     note that updates.csv will not exist on its own once addition is confirmed. data rolled into master csv\n",
    "    file_name = \"updates.csv\"\n",
    "    data = pd.read_csv(file_name)\n",
    "    print(\"The file has been read!\")\n",
    "\n",
    "    for index, row in data.iterrows():\n",
    "        record = unemployment(**{\n",
    "            'state' : row[\"state\"],\n",
    "            'state_abbr' : row[\"state abbr\"],\n",
    "            'file_week_ended' : datetime.strptime(row[\"File week ended\"], '%Y-%m-%d').date(),\n",
    "            'initial_claims' : row[\"Initial Claims\"],\n",
    "            'reflecting_week_ended' : datetime.strptime(row[\"Reflecting Week Ended\"], '%Y-%m-%d').date(),\n",
    "            'continued_claims' : row[\"Continued Claims\"],\n",
    "            'covered_employment' : row[\"Covered Employment\"],\n",
    "            'insured_unemployment_rate' : row[\"Insured Unemployment Rate\"]\n",
    "        })\n",
    "        session.add(record) #Add all the records\n",
    "        print(\"added record\")\n",
    "\n",
    "    session.commit() #Attempt to commit all the records\n",
    "except(error):\n",
    "    session.rollback() #Rollback the changes on error\n",
    "    print(error)\n",
    "finally:\n",
    "    session.close() #Close the connection"
   ]
  }
 ],
 "metadata": {
  "kernelspec": {
   "display_name": "Python 3.7.5 64-bit ('PythonDataUpdate2': conda)",
   "language": "python",
   "name": "python37564bitpythondataupdate2condaa497fd42be2140be8553fda70837b473"
  },
  "language_info": {
   "codemirror_mode": {
    "name": "ipython",
    "version": 3
   },
   "file_extension": ".py",
   "mimetype": "text/x-python",
   "name": "python",
   "nbconvert_exporter": "python",
   "pygments_lexer": "ipython3",
   "version": "3.7.5"
  }
 },
 "nbformat": 4,
 "nbformat_minor": 4
}
