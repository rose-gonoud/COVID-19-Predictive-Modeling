{
 "cells": [
  {
   "cell_type": "code",
   "execution_count": 1,
   "metadata": {},
   "outputs": [],
   "source": [
    "# Set the seed value for the notebook so the results are reproducible\n",
    "from numpy.random import seed\n",
    "seed(1)"
   ]
  },
  {
   "cell_type": "code",
   "execution_count": 2,
   "metadata": {},
   "outputs": [],
   "source": [
    "%matplotlib inline\n",
    "import numpy as np\n",
    "import sklearn\n",
    "import sklearn.datasets\n",
    "import pandas as pd\n",
    "import warnings\n",
    "warnings.simplefilter('ignore', FutureWarning)"
   ]
  },
  {
   "cell_type": "code",
   "execution_count": 3,
   "metadata": {},
   "outputs": [
    {
     "data": {
      "text/plain": [
       "'2.2.4-tf'"
      ]
     },
     "execution_count": 3,
     "metadata": {},
     "output_type": "execute_result"
    }
   ],
   "source": [
    "import tensorflow\n",
    "tensorflow.keras.__version__"
   ]
  },
  {
   "cell_type": "code",
   "execution_count": 4,
   "metadata": {},
   "outputs": [],
   "source": [
    "pd.options.display.max_rows = 300"
   ]
  },
  {
   "cell_type": "code",
   "execution_count": 5,
   "metadata": {},
   "outputs": [],
   "source": [
    "pd.options.display.max_columns = 200"
   ]
  },
  {
   "cell_type": "code",
   "execution_count": 6,
   "metadata": {},
   "outputs": [],
   "source": [
    "# Read in CSV file\n",
    "covsoc = pd.read_csv('../COVID-19-Predictive-Modelling/assets/data/Merged/covsoc.csv')"
   ]
  },
  {
   "cell_type": "code",
   "execution_count": 7,
   "metadata": {},
   "outputs": [
    {
     "data": {
      "text/html": [
       "<div>\n",
       "<style scoped>\n",
       "    .dataframe tbody tr th:only-of-type {\n",
       "        vertical-align: middle;\n",
       "    }\n",
       "\n",
       "    .dataframe tbody tr th {\n",
       "        vertical-align: top;\n",
       "    }\n",
       "\n",
       "    .dataframe thead th {\n",
       "        text-align: right;\n",
       "    }\n",
       "</style>\n",
       "<table border=\"1\" class=\"dataframe\">\n",
       "  <thead>\n",
       "    <tr style=\"text-align: right;\">\n",
       "      <th></th>\n",
       "      <th>Unnamed: 0</th>\n",
       "      <th>name</th>\n",
       "      <th>date</th>\n",
       "      <th>fips</th>\n",
       "      <th>lat</th>\n",
       "      <th>long</th>\n",
       "      <th>confirmed</th>\n",
       "      <th>deaths</th>\n",
       "      <th>confirmed_diff</th>\n",
       "      <th>deaths_diff</th>\n",
       "      <th>state</th>\n",
       "      <th>state_abbr</th>\n",
       "      <th>lockdown_date</th>\n",
       "      <th>lockdown_plus_30</th>\n",
       "      <th>ST</th>\n",
       "      <th>STATE</th>\n",
       "      <th>COUNTY</th>\n",
       "      <th>AREA_SQMI</th>\n",
       "      <th>E_TOTPOP</th>\n",
       "      <th>E_HU</th>\n",
       "      <th>E_HH</th>\n",
       "      <th>E_POV</th>\n",
       "      <th>E_UNEMP</th>\n",
       "      <th>E_PCI</th>\n",
       "      <th>E_NOHSDP</th>\n",
       "      <th>E_AGE65</th>\n",
       "      <th>E_AGE17</th>\n",
       "      <th>E_DISABL</th>\n",
       "      <th>E_SNGPNT</th>\n",
       "      <th>E_MINRTY</th>\n",
       "      <th>E_LIMENG</th>\n",
       "      <th>E_MUNIT</th>\n",
       "      <th>E_MOBILE</th>\n",
       "      <th>E_CROWD</th>\n",
       "      <th>E_NOVEH</th>\n",
       "      <th>E_GROUPQ</th>\n",
       "      <th>percent_confirmed</th>\n",
       "      <th>percent_deaths</th>\n",
       "    </tr>\n",
       "  </thead>\n",
       "  <tbody>\n",
       "    <tr>\n",
       "      <th>0</th>\n",
       "      <td>0</td>\n",
       "      <td>Autauga</td>\n",
       "      <td>2020-05-03</td>\n",
       "      <td>1001</td>\n",
       "      <td>32.539527</td>\n",
       "      <td>-86.644082</td>\n",
       "      <td>48</td>\n",
       "      <td>3</td>\n",
       "      <td>3</td>\n",
       "      <td>0</td>\n",
       "      <td>Alabama</td>\n",
       "      <td>AL</td>\n",
       "      <td>2020-04-03</td>\n",
       "      <td>2020-05-03</td>\n",
       "      <td>1</td>\n",
       "      <td>ALABAMA</td>\n",
       "      <td>Autauga</td>\n",
       "      <td>594.443459</td>\n",
       "      <td>55200</td>\n",
       "      <td>23315</td>\n",
       "      <td>21115</td>\n",
       "      <td>8422</td>\n",
       "      <td>1065</td>\n",
       "      <td>29372</td>\n",
       "      <td>4204</td>\n",
       "      <td>8050</td>\n",
       "      <td>13369</td>\n",
       "      <td>10465</td>\n",
       "      <td>1586</td>\n",
       "      <td>13788</td>\n",
       "      <td>426</td>\n",
       "      <td>886</td>\n",
       "      <td>4279</td>\n",
       "      <td>299</td>\n",
       "      <td>1191</td>\n",
       "      <td>546</td>\n",
       "      <td>0.000016</td>\n",
       "      <td>9.894000e-07</td>\n",
       "    </tr>\n",
       "    <tr>\n",
       "      <th>1</th>\n",
       "      <td>1</td>\n",
       "      <td>Baldwin</td>\n",
       "      <td>2020-05-03</td>\n",
       "      <td>1003</td>\n",
       "      <td>30.727750</td>\n",
       "      <td>-87.722071</td>\n",
       "      <td>187</td>\n",
       "      <td>4</td>\n",
       "      <td>6</td>\n",
       "      <td>0</td>\n",
       "      <td>Alabama</td>\n",
       "      <td>AL</td>\n",
       "      <td>2020-04-03</td>\n",
       "      <td>2020-05-03</td>\n",
       "      <td>1</td>\n",
       "      <td>ALABAMA</td>\n",
       "      <td>Baldwin</td>\n",
       "      <td>1589.793007</td>\n",
       "      <td>208107</td>\n",
       "      <td>111945</td>\n",
       "      <td>78622</td>\n",
       "      <td>21653</td>\n",
       "      <td>4343</td>\n",
       "      <td>31203</td>\n",
       "      <td>14310</td>\n",
       "      <td>40665</td>\n",
       "      <td>45677</td>\n",
       "      <td>28863</td>\n",
       "      <td>4508</td>\n",
       "      <td>35339</td>\n",
       "      <td>1068</td>\n",
       "      <td>20492</td>\n",
       "      <td>13075</td>\n",
       "      <td>991</td>\n",
       "      <td>2705</td>\n",
       "      <td>3014</td>\n",
       "      <td>0.000062</td>\n",
       "      <td>1.319100e-06</td>\n",
       "    </tr>\n",
       "    <tr>\n",
       "      <th>2</th>\n",
       "      <td>2</td>\n",
       "      <td>Barbour</td>\n",
       "      <td>2020-05-03</td>\n",
       "      <td>1005</td>\n",
       "      <td>31.868263</td>\n",
       "      <td>-85.387129</td>\n",
       "      <td>45</td>\n",
       "      <td>1</td>\n",
       "      <td>2</td>\n",
       "      <td>0</td>\n",
       "      <td>Alabama</td>\n",
       "      <td>AL</td>\n",
       "      <td>2020-04-03</td>\n",
       "      <td>2020-05-03</td>\n",
       "      <td>1</td>\n",
       "      <td>ALABAMA</td>\n",
       "      <td>Barbour</td>\n",
       "      <td>885.001636</td>\n",
       "      <td>25782</td>\n",
       "      <td>11937</td>\n",
       "      <td>9186</td>\n",
       "      <td>6597</td>\n",
       "      <td>918</td>\n",
       "      <td>18461</td>\n",
       "      <td>4901</td>\n",
       "      <td>4634</td>\n",
       "      <td>5436</td>\n",
       "      <td>5078</td>\n",
       "      <td>1174</td>\n",
       "      <td>13884</td>\n",
       "      <td>398</td>\n",
       "      <td>152</td>\n",
       "      <td>3484</td>\n",
       "      <td>313</td>\n",
       "      <td>849</td>\n",
       "      <td>2900</td>\n",
       "      <td>0.000015</td>\n",
       "      <td>3.298000e-07</td>\n",
       "    </tr>\n",
       "    <tr>\n",
       "      <th>3</th>\n",
       "      <td>3</td>\n",
       "      <td>Bibb</td>\n",
       "      <td>2020-05-03</td>\n",
       "      <td>1007</td>\n",
       "      <td>32.996421</td>\n",
       "      <td>-87.125115</td>\n",
       "      <td>43</td>\n",
       "      <td>0</td>\n",
       "      <td>1</td>\n",
       "      <td>0</td>\n",
       "      <td>Alabama</td>\n",
       "      <td>AL</td>\n",
       "      <td>2020-04-03</td>\n",
       "      <td>2020-05-03</td>\n",
       "      <td>1</td>\n",
       "      <td>ALABAMA</td>\n",
       "      <td>Bibb</td>\n",
       "      <td>622.461089</td>\n",
       "      <td>22527</td>\n",
       "      <td>9161</td>\n",
       "      <td>6840</td>\n",
       "      <td>2863</td>\n",
       "      <td>658</td>\n",
       "      <td>20199</td>\n",
       "      <td>2650</td>\n",
       "      <td>3661</td>\n",
       "      <td>4659</td>\n",
       "      <td>3412</td>\n",
       "      <td>407</td>\n",
       "      <td>5726</td>\n",
       "      <td>57</td>\n",
       "      <td>222</td>\n",
       "      <td>2615</td>\n",
       "      <td>52</td>\n",
       "      <td>410</td>\n",
       "      <td>2091</td>\n",
       "      <td>0.000014</td>\n",
       "      <td>0.000000e+00</td>\n",
       "    </tr>\n",
       "    <tr>\n",
       "      <th>4</th>\n",
       "      <td>4</td>\n",
       "      <td>Blount</td>\n",
       "      <td>2020-05-03</td>\n",
       "      <td>1009</td>\n",
       "      <td>33.982109</td>\n",
       "      <td>-86.567906</td>\n",
       "      <td>40</td>\n",
       "      <td>0</td>\n",
       "      <td>0</td>\n",
       "      <td>0</td>\n",
       "      <td>Alabama</td>\n",
       "      <td>AL</td>\n",
       "      <td>2020-04-03</td>\n",
       "      <td>2020-05-03</td>\n",
       "      <td>1</td>\n",
       "      <td>ALABAMA</td>\n",
       "      <td>Blount</td>\n",
       "      <td>644.830460</td>\n",
       "      <td>57645</td>\n",
       "      <td>24222</td>\n",
       "      <td>20600</td>\n",
       "      <td>8220</td>\n",
       "      <td>909</td>\n",
       "      <td>22656</td>\n",
       "      <td>7861</td>\n",
       "      <td>10233</td>\n",
       "      <td>13468</td>\n",
       "      <td>8114</td>\n",
       "      <td>1437</td>\n",
       "      <td>7413</td>\n",
       "      <td>934</td>\n",
       "      <td>211</td>\n",
       "      <td>6108</td>\n",
       "      <td>339</td>\n",
       "      <td>856</td>\n",
       "      <td>543</td>\n",
       "      <td>0.000013</td>\n",
       "      <td>0.000000e+00</td>\n",
       "    </tr>\n",
       "  </tbody>\n",
       "</table>\n",
       "</div>"
      ],
      "text/plain": [
       "   Unnamed: 0     name        date  fips        lat       long  confirmed  \\\n",
       "0           0  Autauga  2020-05-03  1001  32.539527 -86.644082         48   \n",
       "1           1  Baldwin  2020-05-03  1003  30.727750 -87.722071        187   \n",
       "2           2  Barbour  2020-05-03  1005  31.868263 -85.387129         45   \n",
       "3           3     Bibb  2020-05-03  1007  32.996421 -87.125115         43   \n",
       "4           4   Blount  2020-05-03  1009  33.982109 -86.567906         40   \n",
       "\n",
       "   deaths  confirmed_diff  deaths_diff    state state_abbr lockdown_date  \\\n",
       "0       3               3            0  Alabama         AL    2020-04-03   \n",
       "1       4               6            0  Alabama         AL    2020-04-03   \n",
       "2       1               2            0  Alabama         AL    2020-04-03   \n",
       "3       0               1            0  Alabama         AL    2020-04-03   \n",
       "4       0               0            0  Alabama         AL    2020-04-03   \n",
       "\n",
       "  lockdown_plus_30  ST    STATE   COUNTY    AREA_SQMI  E_TOTPOP    E_HU  \\\n",
       "0       2020-05-03   1  ALABAMA  Autauga   594.443459     55200   23315   \n",
       "1       2020-05-03   1  ALABAMA  Baldwin  1589.793007    208107  111945   \n",
       "2       2020-05-03   1  ALABAMA  Barbour   885.001636     25782   11937   \n",
       "3       2020-05-03   1  ALABAMA     Bibb   622.461089     22527    9161   \n",
       "4       2020-05-03   1  ALABAMA   Blount   644.830460     57645   24222   \n",
       "\n",
       "    E_HH  E_POV  E_UNEMP  E_PCI  E_NOHSDP  E_AGE65  E_AGE17  E_DISABL  \\\n",
       "0  21115   8422     1065  29372      4204     8050    13369     10465   \n",
       "1  78622  21653     4343  31203     14310    40665    45677     28863   \n",
       "2   9186   6597      918  18461      4901     4634     5436      5078   \n",
       "3   6840   2863      658  20199      2650     3661     4659      3412   \n",
       "4  20600   8220      909  22656      7861    10233    13468      8114   \n",
       "\n",
       "   E_SNGPNT  E_MINRTY  E_LIMENG  E_MUNIT  E_MOBILE  E_CROWD  E_NOVEH  \\\n",
       "0      1586     13788       426      886      4279      299     1191   \n",
       "1      4508     35339      1068    20492     13075      991     2705   \n",
       "2      1174     13884       398      152      3484      313      849   \n",
       "3       407      5726        57      222      2615       52      410   \n",
       "4      1437      7413       934      211      6108      339      856   \n",
       "\n",
       "   E_GROUPQ  percent_confirmed  percent_deaths  \n",
       "0       546           0.000016    9.894000e-07  \n",
       "1      3014           0.000062    1.319100e-06  \n",
       "2      2900           0.000015    3.298000e-07  \n",
       "3      2091           0.000014    0.000000e+00  \n",
       "4       543           0.000013    0.000000e+00  "
      ]
     },
     "execution_count": 7,
     "metadata": {},
     "output_type": "execute_result"
    }
   ],
   "source": [
    "covsoc.head()"
   ]
  },
  {
   "cell_type": "code",
   "execution_count": 8,
   "metadata": {},
   "outputs": [
    {
     "data": {
      "text/plain": [
       "(2518, 38)"
      ]
     },
     "execution_count": 8,
     "metadata": {},
     "output_type": "execute_result"
    }
   ],
   "source": [
    "covsoc.shape"
   ]
  },
  {
   "cell_type": "code",
   "execution_count": null,
   "metadata": {},
   "outputs": [],
   "source": []
  },
  {
   "cell_type": "code",
   "execution_count": 9,
   "metadata": {},
   "outputs": [],
   "source": [
    "# NN MODELING"
   ]
  },
  {
   "cell_type": "code",
   "execution_count": 10,
   "metadata": {},
   "outputs": [
    {
     "name": "stderr",
     "output_type": "stream",
     "text": [
      "Using TensorFlow backend.\n"
     ]
    }
   ],
   "source": [
    "from tensorflow.keras.models import Sequential\n",
    "from tensorflow.keras.utils import to_categorical\n",
    "from tensorflow.keras.layers import Dense\n",
    "from sklearn.preprocessing import LabelEncoder, MinMaxScaler\n",
    "from sklearn.preprocessing import StandardScaler\n",
    "from sklearn.model_selection import train_test_split\n",
    "from sklearn.metrics import mean_squared_error\n",
    "from math import sqrt\n",
    "# Not able to get SGD to work\n",
    "from keras.optimizers import SGD"
   ]
  },
  {
   "cell_type": "markdown",
   "metadata": {},
   "source": [
    "# MODEL 1 #"
   ]
  },
  {
   "cell_type": "code",
   "execution_count": 11,
   "metadata": {},
   "outputs": [],
   "source": [
    "# Model 1: Linear regression using confirmed (summed count) from SVI (neither scaled) and mean squared error\n",
    "X = covsoc[['AREA_SQMI','E_HU', 'E_HH', 'E_POV', 'E_UNEMP', 'E_PCI', 'E_NOHSDP', 'E_AGE65', 'E_AGE17', 'E_DISABL', 'E_SNGPNT', 'E_MINRTY', 'E_LIMENG', 'E_MUNIT', 'E_MOBILE', 'E_CROWD', 'E_NOVEH', 'E_GROUPQ']]"
   ]
  },
  {
   "cell_type": "code",
   "execution_count": 12,
   "metadata": {},
   "outputs": [],
   "source": [
    "Y = covsoc['confirmed']"
   ]
  },
  {
   "cell_type": "code",
   "execution_count": 13,
   "metadata": {},
   "outputs": [
    {
     "name": "stdout",
     "output_type": "stream",
     "text": [
      "(1762, 18)\n",
      "(756, 18)\n",
      "(1762,)\n",
      "(756,)\n"
     ]
    }
   ],
   "source": [
    "# Train, test split\n",
    "X_train, X_test, Y_train, Y_test = train_test_split(X, Y, test_size=0.30, random_state=40)\n",
    "print(X_train.shape); print(X_test.shape); print(Y_train.shape); print(Y_test.shape)"
   ]
  },
  {
   "cell_type": "code",
   "execution_count": 14,
   "metadata": {},
   "outputs": [],
   "source": [
    "X_train = np.asarray(X_train)\n",
    "Y_train = np.asarray(Y_train)\n",
    "X_test = np.asarray(X_test)\n",
    "Y_test = np.asarray(Y_test)"
   ]
  },
  {
   "cell_type": "code",
   "execution_count": 15,
   "metadata": {},
   "outputs": [],
   "source": [
    "# Create an empty sequential model\n",
    "model = Sequential()"
   ]
  },
  {
   "cell_type": "code",
   "execution_count": 16,
   "metadata": {},
   "outputs": [],
   "source": [
    "model.add(Dense(units=6, activation='relu', input_dim=18))\n",
    "model.add(Dense(units=3, activation='relu'))\n",
    "model.add(Dense(units=1))\n",
    "opt = SGD(lr=0.01, momentum=0.9)"
   ]
  },
  {
   "cell_type": "code",
   "execution_count": 17,
   "metadata": {
    "scrolled": false
   },
   "outputs": [
    {
     "name": "stdout",
     "output_type": "stream",
     "text": [
      "Model: \"sequential\"\n",
      "_________________________________________________________________\n",
      "Layer (type)                 Output Shape              Param #   \n",
      "=================================================================\n",
      "dense (Dense)                (None, 6)                 114       \n",
      "_________________________________________________________________\n",
      "dense_1 (Dense)              (None, 3)                 21        \n",
      "_________________________________________________________________\n",
      "dense_2 (Dense)              (None, 1)                 4         \n",
      "=================================================================\n",
      "Total params: 139\n",
      "Trainable params: 139\n",
      "Non-trainable params: 0\n",
      "_________________________________________________________________\n"
     ]
    }
   ],
   "source": [
    "model.summary()"
   ]
  },
  {
   "cell_type": "code",
   "execution_count": 18,
   "metadata": {},
   "outputs": [
    {
     "name": "stdout",
     "output_type": "stream",
     "text": [
      "Train on 1762 samples\n",
      "Epoch 1/60\n",
      "1762/1762 - 1s - loss: 2482378654.5610 - accuracy: 0.0074\n",
      "Epoch 2/60\n",
      "1762/1762 - 0s - loss: 1299132110.4125 - accuracy: 0.0074\n",
      "Epoch 3/60\n",
      "1762/1762 - 0s - loss: 887574444.4596 - accuracy: 0.0074\n",
      "Epoch 4/60\n",
      "1762/1762 - 0s - loss: 633452370.7660 - accuracy: 0.0074\n",
      "Epoch 5/60\n",
      "1762/1762 - 0s - loss: 461609874.4232 - accuracy: 0.0074\n",
      "Epoch 6/60\n",
      "1762/1762 - 0s - loss: 339977510.3755 - accuracy: 0.0074\n",
      "Epoch 7/60\n",
      "1762/1762 - 0s - loss: 263273230.4279 - accuracy: 0.0074\n",
      "Epoch 8/60\n",
      "1762/1762 - 0s - loss: 199799165.0497 - accuracy: 0.0074\n",
      "Epoch 9/60\n",
      "1762/1762 - 0s - loss: 157440424.6653 - accuracy: 0.0074\n",
      "Epoch 10/60\n",
      "1762/1762 - 0s - loss: 125745715.5444 - accuracy: 0.0074\n",
      "Epoch 11/60\n",
      "1762/1762 - 0s - loss: 100257788.4506 - accuracy: 0.0074\n",
      "Epoch 12/60\n",
      "1762/1762 - 0s - loss: 81116171.1402 - accuracy: 0.0074\n",
      "Epoch 13/60\n",
      "1762/1762 - 0s - loss: 66873894.0481 - accuracy: 0.0074\n",
      "Epoch 14/60\n",
      "1762/1762 - 0s - loss: 56428831.7926 - accuracy: 0.0074\n",
      "Epoch 15/60\n",
      "1762/1762 - 0s - loss: 48026717.7679 - accuracy: 0.0074\n",
      "Epoch 16/60\n",
      "1762/1762 - 0s - loss: 40100966.8210 - accuracy: 0.0074\n",
      "Epoch 17/60\n",
      "1762/1762 - 0s - loss: 34538027.1314 - accuracy: 0.0074\n",
      "Epoch 18/60\n",
      "1762/1762 - 0s - loss: 29452726.2301 - accuracy: 0.0074\n",
      "Epoch 19/60\n",
      "1762/1762 - 0s - loss: 26437590.5894 - accuracy: 0.0074\n",
      "Epoch 20/60\n",
      "1762/1762 - 0s - loss: 24578785.2869 - accuracy: 0.0074\n",
      "Epoch 21/60\n",
      "1762/1762 - 0s - loss: 22181146.1405 - accuracy: 0.0074\n",
      "Epoch 22/60\n",
      "1762/1762 - 0s - loss: 20605201.9730 - accuracy: 0.0074\n",
      "Epoch 23/60\n",
      "1762/1762 - 0s - loss: 18746449.2992 - accuracy: 0.0074\n",
      "Epoch 24/60\n",
      "1762/1762 - 0s - loss: 16976182.4148 - accuracy: 0.0074\n",
      "Epoch 25/60\n",
      "1762/1762 - 0s - loss: 15755917.4367 - accuracy: 0.0074\n",
      "Epoch 26/60\n",
      "1762/1762 - 0s - loss: 14765796.8544 - accuracy: 0.0074\n",
      "Epoch 27/60\n",
      "1762/1762 - 0s - loss: 14351342.3912 - accuracy: 0.0074\n",
      "Epoch 28/60\n",
      "1762/1762 - 0s - loss: 14022647.2742 - accuracy: 0.0074\n",
      "Epoch 29/60\n",
      "1762/1762 - 0s - loss: 14049035.7043 - accuracy: 0.0074\n",
      "Epoch 30/60\n",
      "1762/1762 - 0s - loss: 13827991.5960 - accuracy: 0.0074\n",
      "Epoch 31/60\n",
      "1762/1762 - 0s - loss: 13664583.5815 - accuracy: 0.0074\n",
      "Epoch 32/60\n",
      "1762/1762 - 0s - loss: 13566497.1375 - accuracy: 0.0074\n",
      "Epoch 33/60\n",
      "1762/1762 - 0s - loss: 13516567.0756 - accuracy: 0.0074\n",
      "Epoch 34/60\n",
      "1762/1762 - 0s - loss: 13516274.9625 - accuracy: 0.0074\n",
      "Epoch 35/60\n",
      "1762/1762 - 0s - loss: 13515975.0947 - accuracy: 0.0074\n",
      "Epoch 36/60\n",
      "1762/1762 - 0s - loss: 13515711.4464 - accuracy: 0.0074\n",
      "Epoch 37/60\n",
      "1762/1762 - 0s - loss: 13515390.8781 - accuracy: 0.0074\n",
      "Epoch 38/60\n",
      "1762/1762 - 0s - loss: 13515079.7113 - accuracy: 0.0074\n",
      "Epoch 39/60\n",
      "1762/1762 - 0s - loss: 13514784.8570 - accuracy: 0.0074\n",
      "Epoch 40/60\n",
      "1762/1762 - 0s - loss: 13514483.2363 - accuracy: 0.0074\n",
      "Epoch 41/60\n",
      "1762/1762 - 0s - loss: 13514162.4046 - accuracy: 0.0573\n",
      "Epoch 42/60\n",
      "1762/1762 - 0s - loss: 13513838.5360 - accuracy: 0.0636\n",
      "Epoch 43/60\n",
      "1762/1762 - 0s - loss: 13513491.4634 - accuracy: 0.0636\n",
      "Epoch 44/60\n",
      "1762/1762 - 0s - loss: 13513178.5609 - accuracy: 0.0636\n",
      "Epoch 45/60\n",
      "1762/1762 - 0s - loss: 13512849.6221 - accuracy: 0.0636\n",
      "Epoch 46/60\n",
      "1762/1762 - 0s - loss: 13512502.4472 - accuracy: 0.0636\n",
      "Epoch 47/60\n",
      "1762/1762 - 0s - loss: 13512168.8801 - accuracy: 0.0636\n",
      "Epoch 48/60\n",
      "1762/1762 - 0s - loss: 13511865.4764 - accuracy: 0.0636\n",
      "Epoch 49/60\n",
      "1762/1762 - 0s - loss: 13511501.9262 - accuracy: 0.0636\n",
      "Epoch 50/60\n",
      "1762/1762 - 0s - loss: 13511152.0938 - accuracy: 0.0636\n",
      "Epoch 51/60\n",
      "1762/1762 - 0s - loss: 13510813.7889 - accuracy: 0.0636\n",
      "Epoch 52/60\n",
      "1762/1762 - 0s - loss: 13510473.0370 - accuracy: 0.0636\n",
      "Epoch 53/60\n",
      "1762/1762 - 0s - loss: 13510120.3651 - accuracy: 0.0636\n",
      "Epoch 54/60\n",
      "1762/1762 - 0s - loss: 13509757.9733 - accuracy: 0.0636\n",
      "Epoch 55/60\n",
      "1762/1762 - 0s - loss: 13509439.0754 - accuracy: 0.0636\n",
      "Epoch 56/60\n",
      "1762/1762 - 0s - loss: 13509079.3116 - accuracy: 0.0636\n",
      "Epoch 57/60\n",
      "1762/1762 - 0s - loss: 13508712.2284 - accuracy: 0.0636\n",
      "Epoch 58/60\n",
      "1762/1762 - 0s - loss: 13508353.7888 - accuracy: 0.0636\n",
      "Epoch 59/60\n",
      "1762/1762 - 0s - loss: 13508041.6179 - accuracy: 0.0636\n",
      "Epoch 60/60\n",
      "1762/1762 - 0s - loss: 13507653.3648 - accuracy: 0.0636\n"
     ]
    },
    {
     "data": {
      "text/plain": [
       "<tensorflow.python.keras.callbacks.History at 0x1a3fffc510>"
      ]
     },
     "execution_count": 18,
     "metadata": {},
     "output_type": "execute_result"
    }
   ],
   "source": [
    "model.compile(optimizer='adam',\n",
    "              loss='mean_squared_error',\n",
    "              metrics=['accuracy'])\n",
    "model.fit(\n",
    "    X_train,\n",
    "    Y_train,\n",
    "    epochs=60,\n",
    "    shuffle=True,\n",
    "    verbose=2\n",
    ")"
   ]
  },
  {
   "cell_type": "code",
   "execution_count": 19,
   "metadata": {},
   "outputs": [],
   "source": [
    "history = model.fit(X_train, Y_train, validation_data=(X_test, Y_test), epochs=60, verbose=0)"
   ]
  },
  {
   "cell_type": "code",
   "execution_count": 20,
   "metadata": {},
   "outputs": [
    {
     "name": "stdout",
     "output_type": "stream",
     "text": [
      "Neural Network - Loss: 13492614.376430776, Accuracy: 0.0646992027759552\n"
     ]
    }
   ],
   "source": [
    "model_loss, model_accuracy = model.evaluate(\n",
    "    X_train, Y_train, verbose=0)\n",
    "print(\n",
    "    f\"Neural Network - Loss: {model_loss}, Accuracy: {model_accuracy}\")"
   ]
  },
  {
   "cell_type": "code",
   "execution_count": 21,
   "metadata": {},
   "outputs": [],
   "source": [
    "model.save(\"covid_model_trained.h5\")"
   ]
  },
  {
   "cell_type": "code",
   "execution_count": 22,
   "metadata": {},
   "outputs": [],
   "source": [
    "from tensorflow.keras.models import load_model\n",
    "covid_model = load_model(\"covid_model_trained.h5\")"
   ]
  },
  {
   "cell_type": "code",
   "execution_count": 23,
   "metadata": {},
   "outputs": [
    {
     "name": "stdout",
     "output_type": "stream",
     "text": [
      "Neural Network - Loss: 1059467.5570849867, Accuracy: 0.06878306716680527\n"
     ]
    }
   ],
   "source": [
    "model_loss, model_accuracy = covid_model.evaluate(\n",
    "    X_test, Y_test, verbose=0)\n",
    "print(\n",
    "    f\"Neural Network - Loss: {model_loss}, Accuracy: {model_accuracy}\")"
   ]
  },
  {
   "cell_type": "code",
   "execution_count": 24,
   "metadata": {},
   "outputs": [
    {
     "name": "stdout",
     "output_type": "stream",
     "text": [
      "3673.2292940147686\n",
      "1029.304436447224\n"
     ]
    }
   ],
   "source": [
    "pred_train= model.predict(X_train)\n",
    "print(np.sqrt(mean_squared_error(Y_train,pred_train)))\n",
    "pred= model.predict(X_test)\n",
    "print(np.sqrt(mean_squared_error(Y_test,pred))) "
   ]
  },
  {
   "cell_type": "code",
   "execution_count": 25,
   "metadata": {},
   "outputs": [
    {
     "data": {
      "image/png": "[encoded data removed]",
      "text/plain": [
       "<Figure size 432x288 with 1 Axes>"
      ]
     },
     "metadata": {
      "needs_background": "light"
     },
     "output_type": "display_data"
    }
   ],
   "source": [
    "from matplotlib import pyplot\n",
    "pyplot.title('Loss / Mean Squared Error')\n",
    "pyplot.plot(history.history['loss'], label='train')\n",
    "pyplot.plot(history.history['val_loss'], label='test')\n",
    "pyplot.legend()\n",
    "pyplot.show()"
   ]
  },
  {
   "cell_type": "markdown",
   "metadata": {},
   "source": [
    "# MODEL 2 #"
   ]
  },
  {
   "cell_type": "code",
   "execution_count": 26,
   "metadata": {},
   "outputs": [],
   "source": [
    "# I can't figure out why this keeps getting stuck at .0074 so quickly despite all the different combinations I've tried."
   ]
  },
  {
   "cell_type": "code",
   "execution_count": 27,
   "metadata": {},
   "outputs": [],
   "source": [
    "# Model 2: Linear regression using confirmed (summed count) from SVI (neither scaled) and mean squared logarithmic error\n",
    "X = covsoc[['AREA_SQMI','E_HU', 'E_HH', 'E_POV', 'E_UNEMP', 'E_PCI', 'E_NOHSDP', 'E_AGE65', 'E_AGE17', 'E_DISABL', 'E_SNGPNT', 'E_MINRTY', 'E_LIMENG', 'E_MUNIT', 'E_MOBILE', 'E_CROWD', 'E_NOVEH', 'E_GROUPQ']]"
   ]
  },
  {
   "cell_type": "code",
   "execution_count": 28,
   "metadata": {},
   "outputs": [],
   "source": [
    "Y = covsoc['confirmed']"
   ]
  },
  {
   "cell_type": "code",
   "execution_count": 29,
   "metadata": {},
   "outputs": [
    {
     "name": "stdout",
     "output_type": "stream",
     "text": [
      "(1762, 18)\n",
      "(756, 18)\n",
      "(1762,)\n",
      "(756,)\n"
     ]
    }
   ],
   "source": [
    "# Train, test split\n",
    "X_train, X_test, Y_train, Y_test = train_test_split(X, Y, test_size=0.30, random_state=40)\n",
    "print(X_train.shape); print(X_test.shape); print(Y_train.shape); print(Y_test.shape)"
   ]
  },
  {
   "cell_type": "code",
   "execution_count": 30,
   "metadata": {},
   "outputs": [],
   "source": [
    "X_train = np.asarray(X_train)\n",
    "Y_train = np.asarray(Y_train)\n",
    "X_test = np.asarray(X_test)\n",
    "Y_test = np.asarray(Y_test)"
   ]
  },
  {
   "cell_type": "code",
   "execution_count": 31,
   "metadata": {},
   "outputs": [],
   "source": [
    "# Create an empty sequential model\n",
    "model2 = Sequential()"
   ]
  },
  {
   "cell_type": "code",
   "execution_count": 32,
   "metadata": {},
   "outputs": [],
   "source": [
    "model2.add(Dense(units=6, activation='relu', input_dim=18))\n",
    "model2.add(Dense(units=3, activation='relu'))\n",
    "model2.add(Dense(units=1))\n",
    "opt = SGD(lr=0.01, momentum=0.9)"
   ]
  },
  {
   "cell_type": "code",
   "execution_count": 33,
   "metadata": {
    "scrolled": true
   },
   "outputs": [
    {
     "name": "stdout",
     "output_type": "stream",
     "text": [
      "Model: \"sequential_1\"\n",
      "_________________________________________________________________\n",
      "Layer (type)                 Output Shape              Param #   \n",
      "=================================================================\n",
      "dense_3 (Dense)              (None, 6)                 114       \n",
      "_________________________________________________________________\n",
      "dense_4 (Dense)              (None, 3)                 21        \n",
      "_________________________________________________________________\n",
      "dense_5 (Dense)              (None, 1)                 4         \n",
      "=================================================================\n",
      "Total params: 139\n",
      "Trainable params: 139\n",
      "Non-trainable params: 0\n",
      "_________________________________________________________________\n"
     ]
    }
   ],
   "source": [
    "model2.summary()"
   ]
  },
  {
   "cell_type": "code",
   "execution_count": 34,
   "metadata": {},
   "outputs": [
    {
     "name": "stdout",
     "output_type": "stream",
     "text": [
      "Train on 1762 samples\n",
      "Epoch 1/60\n",
      "1762/1762 - 1s - loss: 13.8887 - accuracy: 0.0108\n",
      "Epoch 2/60\n",
      "1762/1762 - 0s - loss: 12.4491 - accuracy: 0.0091\n",
      "Epoch 3/60\n",
      "1762/1762 - 0s - loss: 11.3694 - accuracy: 0.0074\n",
      "Epoch 4/60\n",
      "1762/1762 - 0s - loss: 11.6953 - accuracy: 0.0074\n",
      "Epoch 5/60\n",
      "1762/1762 - 0s - loss: 11.6089 - accuracy: 0.0074\n",
      "Epoch 6/60\n",
      "1762/1762 - 0s - loss: 10.8817 - accuracy: 0.0074\n",
      "Epoch 7/60\n",
      "1762/1762 - 0s - loss: 10.9736 - accuracy: 0.0074\n",
      "Epoch 8/60\n",
      "1762/1762 - 0s - loss: 11.1109 - accuracy: 0.0074\n",
      "Epoch 9/60\n",
      "1762/1762 - 0s - loss: 11.1836 - accuracy: 0.0079\n",
      "Epoch 10/60\n",
      "1762/1762 - 0s - loss: 10.7630 - accuracy: 0.0074\n",
      "Epoch 11/60\n",
      "1762/1762 - 0s - loss: 10.4520 - accuracy: 0.0079\n",
      "Epoch 12/60\n",
      "1762/1762 - 0s - loss: 9.9369 - accuracy: 0.0074\n",
      "Epoch 13/60\n",
      "1762/1762 - 0s - loss: 9.7142 - accuracy: 0.0074\n",
      "Epoch 14/60\n",
      "1762/1762 - 0s - loss: 9.2419 - accuracy: 0.0074\n",
      "Epoch 15/60\n",
      "1762/1762 - 0s - loss: 9.0796 - accuracy: 0.0074\n",
      "Epoch 16/60\n",
      "1762/1762 - 0s - loss: 8.4873 - accuracy: 0.0079\n",
      "Epoch 17/60\n",
      "1762/1762 - 0s - loss: 7.4420 - accuracy: 0.0079\n",
      "Epoch 18/60\n",
      "1762/1762 - 0s - loss: 5.6616 - accuracy: 0.0079\n",
      "Epoch 19/60\n",
      "1762/1762 - 0s - loss: 4.1841 - accuracy: 0.0085\n",
      "Epoch 20/60\n",
      "1762/1762 - 0s - loss: 3.6015 - accuracy: 0.0085\n",
      "Epoch 21/60\n",
      "1762/1762 - 0s - loss: 3.1456 - accuracy: 0.0096\n",
      "Epoch 22/60\n",
      "1762/1762 - 0s - loss: 2.8532 - accuracy: 0.0261\n",
      "Epoch 23/60\n",
      "1762/1762 - 0s - loss: 2.5400 - accuracy: 0.0613\n",
      "Epoch 24/60\n",
      "1762/1762 - 0s - loss: 2.3200 - accuracy: 0.0624\n",
      "Epoch 25/60\n",
      "1762/1762 - 0s - loss: 2.1527 - accuracy: 0.0630\n",
      "Epoch 26/60\n",
      "1762/1762 - 0s - loss: 2.0103 - accuracy: 0.0630\n",
      "Epoch 27/60\n",
      "1762/1762 - 0s - loss: 1.8326 - accuracy: 0.0630\n",
      "Epoch 28/60\n",
      "1762/1762 - 0s - loss: 1.6829 - accuracy: 0.0630\n",
      "Epoch 29/60\n",
      "1762/1762 - 0s - loss: 1.4933 - accuracy: 0.0624\n",
      "Epoch 30/60\n",
      "1762/1762 - 0s - loss: 1.2296 - accuracy: 0.0619\n",
      "Epoch 31/60\n",
      "1762/1762 - 0s - loss: 1.1947 - accuracy: 0.0619\n",
      "Epoch 32/60\n",
      "1762/1762 - 0s - loss: 1.2193 - accuracy: 0.0619\n",
      "Epoch 33/60\n",
      "1762/1762 - 0s - loss: 1.1774 - accuracy: 0.0619\n",
      "Epoch 34/60\n",
      "1762/1762 - 0s - loss: 1.1675 - accuracy: 0.0619\n",
      "Epoch 35/60\n",
      "1762/1762 - 0s - loss: 1.1304 - accuracy: 0.0619\n",
      "Epoch 36/60\n",
      "1762/1762 - 0s - loss: 1.1186 - accuracy: 0.0619\n",
      "Epoch 37/60\n",
      "1762/1762 - 0s - loss: 1.1456 - accuracy: 0.0619\n",
      "Epoch 38/60\n",
      "1762/1762 - 0s - loss: 1.1852 - accuracy: 0.0619\n",
      "Epoch 39/60\n",
      "1762/1762 - 0s - loss: 1.1072 - accuracy: 0.0619\n",
      "Epoch 40/60\n",
      "1762/1762 - 0s - loss: 1.1154 - accuracy: 0.0619\n",
      "Epoch 41/60\n",
      "1762/1762 - 0s - loss: 1.1065 - accuracy: 0.0619\n",
      "Epoch 42/60\n",
      "1762/1762 - 0s - loss: 1.1259 - accuracy: 0.0619\n",
      "Epoch 43/60\n",
      "1762/1762 - 0s - loss: 1.0868 - accuracy: 0.0619\n",
      "Epoch 44/60\n",
      "1762/1762 - 0s - loss: 1.0860 - accuracy: 0.0619\n",
      "Epoch 45/60\n",
      "1762/1762 - 0s - loss: 1.0787 - accuracy: 0.0619\n",
      "Epoch 46/60\n",
      "1762/1762 - 0s - loss: 1.0835 - accuracy: 0.0619\n",
      "Epoch 47/60\n",
      "1762/1762 - 0s - loss: 1.0771 - accuracy: 0.0619\n",
      "Epoch 48/60\n",
      "1762/1762 - 0s - loss: 1.0891 - accuracy: 0.0619\n",
      "Epoch 49/60\n",
      "1762/1762 - 0s - loss: 1.1002 - accuracy: 0.0619\n",
      "Epoch 50/60\n",
      "1762/1762 - 0s - loss: 1.0682 - accuracy: 0.0619\n",
      "Epoch 51/60\n",
      "1762/1762 - 0s - loss: 1.1056 - accuracy: 0.0619\n",
      "Epoch 52/60\n",
      "1762/1762 - 0s - loss: 1.0755 - accuracy: 0.0619\n",
      "Epoch 53/60\n",
      "1762/1762 - 0s - loss: 1.0618 - accuracy: 0.0619\n",
      "Epoch 54/60\n",
      "1762/1762 - 0s - loss: 1.0889 - accuracy: 0.0619\n",
      "Epoch 55/60\n",
      "1762/1762 - 0s - loss: 1.0506 - accuracy: 0.0619\n",
      "Epoch 56/60\n",
      "1762/1762 - 0s - loss: 1.0511 - accuracy: 0.0619\n",
      "Epoch 57/60\n",
      "1762/1762 - 0s - loss: 1.0733 - accuracy: 0.0619\n",
      "Epoch 58/60\n",
      "1762/1762 - 0s - loss: 1.0701 - accuracy: 0.0619\n",
      "Epoch 59/60\n",
      "1762/1762 - 0s - loss: 1.0644 - accuracy: 0.0613\n",
      "Epoch 60/60\n",
      "1762/1762 - 0s - loss: 1.0450 - accuracy: 0.0613\n"
     ]
    },
    {
     "data": {
      "text/plain": [
       "<tensorflow.python.keras.callbacks.History at 0x1a42dca510>"
      ]
     },
     "execution_count": 34,
     "metadata": {},
     "output_type": "execute_result"
    }
   ],
   "source": [
    "model2.compile(optimizer='adam',\n",
    "              loss='mean_squared_logarithmic_error',\n",
    "              metrics=['accuracy'])\n",
    "model2.fit(\n",
    "    X_train,\n",
    "    Y_train,\n",
    "    epochs=60,\n",
    "    shuffle=True,\n",
    "    verbose=2\n",
    ")"
   ]
  },
  {
   "cell_type": "code",
   "execution_count": 35,
   "metadata": {},
   "outputs": [],
   "source": [
    "history = model2.fit(X_train, Y_train, validation_data=(X_test, Y_test), epochs=60, verbose=0)"
   ]
  },
  {
   "cell_type": "code",
   "execution_count": 36,
   "metadata": {},
   "outputs": [
    {
     "name": "stdout",
     "output_type": "stream",
     "text": [
      "Neural Network - Loss: 0.9258424176091369, Accuracy: 0.06186152249574661\n"
     ]
    }
   ],
   "source": [
    "model_loss, model_accuracy = model2.evaluate(\n",
    "    X_train, Y_train, verbose=0)\n",
    "print(\n",
    "    f\"Neural Network - Loss: {model_loss}, Accuracy: {model_accuracy}\")"
   ]
  },
  {
   "cell_type": "code",
   "execution_count": 37,
   "metadata": {},
   "outputs": [],
   "source": [
    "model2.save(\"covid_model_2_trained.h5\")"
   ]
  },
  {
   "cell_type": "code",
   "execution_count": 38,
   "metadata": {},
   "outputs": [],
   "source": [
    "from tensorflow.keras.models import load_model\n",
    "covid_model_2 = load_model(\"covid_model_2_trained.h5\")"
   ]
  },
  {
   "cell_type": "code",
   "execution_count": 39,
   "metadata": {},
   "outputs": [
    {
     "name": "stdout",
     "output_type": "stream",
     "text": [
      "Neural Network - Loss: 0.9721383565948123, Accuracy: 0.06878306716680527\n"
     ]
    }
   ],
   "source": [
    "model_loss, model_accuracy = covid_model_2.evaluate(\n",
    "    X_test, Y_test, verbose=0)\n",
    "print(\n",
    "    f\"Neural Network - Loss: {model_loss}, Accuracy: {model_accuracy}\")"
   ]
  },
  {
   "cell_type": "code",
   "execution_count": 40,
   "metadata": {
    "scrolled": true
   },
   "outputs": [
    {
     "data": {
      "image/png": "[encoded data removed]",
      "text/plain": [
       "<Figure size 432x288 with 1 Axes>"
      ]
     },
     "metadata": {
      "needs_background": "light"
     },
     "output_type": "display_data"
    }
   ],
   "source": [
    "from matplotlib import pyplot\n",
    "pyplot.title('Loss / Mean Squared Logarithmic Error')\n",
    "pyplot.plot(history.history['loss'], label='train')\n",
    "pyplot.plot(history.history['val_loss'], label='test')\n",
    "pyplot.legend()\n",
    "pyplot.show()"
   ]
  },
  {
   "cell_type": "markdown",
   "metadata": {},
   "source": [
    "# MODEL 3 #"
   ]
  },
  {
   "cell_type": "code",
   "execution_count": 41,
   "metadata": {},
   "outputs": [],
   "source": [
    "# Model 3: Linear regression using confirmed (summed count) from SVI (X scaled) and mean squared error\n",
    "X = covsoc[['AREA_SQMI','E_HU', 'E_HH', 'E_POV', 'E_UNEMP', 'E_PCI', 'E_NOHSDP', 'E_AGE65', 'E_AGE17', 'E_DISABL', 'E_SNGPNT', 'E_MINRTY', 'E_LIMENG', 'E_MUNIT', 'E_MOBILE', 'E_CROWD', 'E_NOVEH', 'E_GROUPQ']]"
   ]
  },
  {
   "cell_type": "code",
   "execution_count": 42,
   "metadata": {},
   "outputs": [],
   "source": [
    "Y = covsoc['confirmed'].values.reshape(-1,1)"
   ]
  },
  {
   "cell_type": "code",
   "execution_count": 43,
   "metadata": {},
   "outputs": [],
   "source": [
    "# Train, test, split, and scale\n",
    "X_train, X_test, Y_train, Y_test = train_test_split(\n",
    "    X, Y, random_state=1)\n",
    "X_scaler = StandardScaler().fit(X_train)\n",
    "X_train_scaled = X_scaler.transform(X_train)\n",
    "X_test_scaled = X_scaler.transform(X_test)"
   ]
  },
  {
   "cell_type": "code",
   "execution_count": 44,
   "metadata": {},
   "outputs": [],
   "source": [
    "X_train_scaled = np.asarray(X_train_scaled)\n",
    "Y_train = np.asarray(Y_train)\n",
    "X_test_scaled = np.asarray(X_test_scaled)\n",
    "Y_testd = np.asarray(Y_test)"
   ]
  },
  {
   "cell_type": "code",
   "execution_count": 45,
   "metadata": {},
   "outputs": [
    {
     "data": {
      "text/plain": [
       "(1888, 18)"
      ]
     },
     "execution_count": 45,
     "metadata": {},
     "output_type": "execute_result"
    }
   ],
   "source": [
    "X_train_scaled.shape"
   ]
  },
  {
   "cell_type": "code",
   "execution_count": 46,
   "metadata": {},
   "outputs": [
    {
     "data": {
      "text/plain": [
       "(630, 18)"
      ]
     },
     "execution_count": 46,
     "metadata": {},
     "output_type": "execute_result"
    }
   ],
   "source": [
    "X_test_scaled.shape"
   ]
  },
  {
   "cell_type": "code",
   "execution_count": 47,
   "metadata": {},
   "outputs": [
    {
     "data": {
      "text/plain": [
       "(1888, 1)"
      ]
     },
     "execution_count": 47,
     "metadata": {},
     "output_type": "execute_result"
    }
   ],
   "source": [
    "Y_train.shape"
   ]
  },
  {
   "cell_type": "code",
   "execution_count": 48,
   "metadata": {},
   "outputs": [
    {
     "data": {
      "text/plain": [
       "(630, 1)"
      ]
     },
     "execution_count": 48,
     "metadata": {},
     "output_type": "execute_result"
    }
   ],
   "source": [
    "Y_test.shape"
   ]
  },
  {
   "cell_type": "code",
   "execution_count": 49,
   "metadata": {},
   "outputs": [],
   "source": [
    "# Create an empty sequential model\n",
    "model3 = Sequential()"
   ]
  },
  {
   "cell_type": "code",
   "execution_count": 53,
   "metadata": {},
   "outputs": [],
   "source": [
    "model3.add(Dense(6, input_dim=18, activation='relu'))\n",
    "model3.add(Dense(units=3, activation='relu'))\n",
    "model3.add(Dense(units=1))\n",
    "opt = SGD(lr=0.01, momentum=0.9)"
   ]
  },
  {
   "cell_type": "code",
   "execution_count": 54,
   "metadata": {},
   "outputs": [
    {
     "name": "stdout",
     "output_type": "stream",
     "text": [
      "Model: \"sequential_2\"\n",
      "_________________________________________________________________\n",
      "Layer (type)                 Output Shape              Param #   \n",
      "=================================================================\n",
      "dense_6 (Dense)              (None, 6)                 114       \n",
      "_________________________________________________________________\n",
      "dense_7 (Dense)              (None, 3)                 21        \n",
      "_________________________________________________________________\n",
      "dense_8 (Dense)              (None, 1)                 4         \n",
      "=================================================================\n",
      "Total params: 139\n",
      "Trainable params: 139\n",
      "Non-trainable params: 0\n",
      "_________________________________________________________________\n"
     ]
    }
   ],
   "source": [
    "model3.summary()"
   ]
  },
  {
   "cell_type": "code",
   "execution_count": 55,
   "metadata": {
    "scrolled": true
   },
   "outputs": [
    {
     "name": "stdout",
     "output_type": "stream",
     "text": [
      "Train on 1888 samples\n",
      "Epoch 1/60\n",
      "1888/1888 - 1s - loss: 1729534.1715 - accuracy: 0.0095\n",
      "Epoch 2/60\n",
      "1888/1888 - 0s - loss: 1729338.6493 - accuracy: 0.0143\n",
      "Epoch 3/60\n",
      "1888/1888 - 0s - loss: 1728988.8361 - accuracy: 0.0519\n",
      "Epoch 4/60\n",
      "1888/1888 - 0s - loss: 1728553.6514 - accuracy: 0.0620\n",
      "Epoch 5/60\n",
      "1888/1888 - 0s - loss: 1727983.6371 - accuracy: 0.0641\n",
      "Epoch 6/60\n",
      "1888/1888 - 0s - loss: 1727258.5501 - accuracy: 0.0662\n",
      "Epoch 7/60\n",
      "1888/1888 - 0s - loss: 1726280.7349 - accuracy: 0.0667\n",
      "Epoch 8/60\n",
      "1888/1888 - 0s - loss: 1724157.8760 - accuracy: 0.0667\n",
      "Epoch 9/60\n",
      "1888/1888 - 0s - loss: 1720005.6821 - accuracy: 0.0667\n",
      "Epoch 10/60\n",
      "1888/1888 - 0s - loss: 1715174.2072 - accuracy: 0.0667\n",
      "Epoch 11/60\n",
      "1888/1888 - 0s - loss: 1707839.4702 - accuracy: 0.0667\n",
      "Epoch 12/60\n",
      "1888/1888 - 0s - loss: 1695169.6916 - accuracy: 0.0667\n",
      "Epoch 13/60\n",
      "1888/1888 - 0s - loss: 1680591.3559 - accuracy: 0.0667\n",
      "Epoch 14/60\n",
      "1888/1888 - 0s - loss: 1666392.3369 - accuracy: 0.0667\n",
      "Epoch 15/60\n",
      "1888/1888 - 0s - loss: 1649775.6027 - accuracy: 0.0667\n",
      "Epoch 16/60\n",
      "1888/1888 - 0s - loss: 1632659.8344 - accuracy: 0.0667\n",
      "Epoch 17/60\n",
      "1888/1888 - 0s - loss: 1612719.1425 - accuracy: 0.0667\n",
      "Epoch 18/60\n",
      "1888/1888 - 0s - loss: 1592339.9864 - accuracy: 0.0667\n",
      "Epoch 19/60\n",
      "1888/1888 - 0s - loss: 1572020.7832 - accuracy: 0.0667\n",
      "Epoch 20/60\n",
      "1888/1888 - 0s - loss: 1549468.6311 - accuracy: 0.0667\n",
      "Epoch 21/60\n",
      "1888/1888 - 0s - loss: 1526998.7508 - accuracy: 0.0667\n",
      "Epoch 22/60\n",
      "1888/1888 - 0s - loss: 1502172.8654 - accuracy: 0.0667\n",
      "Epoch 23/60\n",
      "1888/1888 - 0s - loss: 1477933.1217 - accuracy: 0.0667\n",
      "Epoch 24/60\n",
      "1888/1888 - 0s - loss: 1452434.9029 - accuracy: 0.0667\n",
      "Epoch 25/60\n",
      "1888/1888 - 0s - loss: 1425509.2374 - accuracy: 0.0667\n",
      "Epoch 26/60\n",
      "1888/1888 - 0s - loss: 1399291.4745 - accuracy: 0.0667\n",
      "Epoch 27/60\n",
      "1888/1888 - 0s - loss: 1371641.4268 - accuracy: 0.0667\n",
      "Epoch 28/60\n",
      "1888/1888 - 0s - loss: 1344080.1845 - accuracy: 0.0667\n",
      "Epoch 29/60\n",
      "1888/1888 - 0s - loss: 1318621.4132 - accuracy: 0.0667\n",
      "Epoch 30/60\n",
      "1888/1888 - 0s - loss: 1291132.7027 - accuracy: 0.0667\n",
      "Epoch 31/60\n",
      "1888/1888 - 0s - loss: 1266267.5574 - accuracy: 0.0667\n",
      "Epoch 32/60\n",
      "1888/1888 - 0s - loss: 1240371.9773 - accuracy: 0.0667\n",
      "Epoch 33/60\n",
      "1888/1888 - 0s - loss: 1218884.4996 - accuracy: 0.0667\n",
      "Epoch 34/60\n",
      "1888/1888 - 0s - loss: 1195674.2256 - accuracy: 0.0667\n",
      "Epoch 35/60\n",
      "1888/1888 - 0s - loss: 1173314.6467 - accuracy: 0.0667\n",
      "Epoch 36/60\n",
      "1888/1888 - 0s - loss: 1153525.5049 - accuracy: 0.0667\n",
      "Epoch 37/60\n",
      "1888/1888 - 0s - loss: 1134646.8931 - accuracy: 0.0667\n",
      "Epoch 38/60\n",
      "1888/1888 - 0s - loss: 1118330.3466 - accuracy: 0.0667\n",
      "Epoch 39/60\n",
      "1888/1888 - 0s - loss: 1102531.9201 - accuracy: 0.0667\n",
      "Epoch 40/60\n",
      "1888/1888 - 0s - loss: 1089363.3480 - accuracy: 0.0667\n",
      "Epoch 41/60\n",
      "1888/1888 - 0s - loss: 1076543.9144 - accuracy: 0.0667\n",
      "Epoch 42/60\n",
      "1888/1888 - 0s - loss: 1065231.6838 - accuracy: 0.0667\n",
      "Epoch 43/60\n",
      "1888/1888 - 0s - loss: 1055169.9628 - accuracy: 0.0667\n",
      "Epoch 44/60\n",
      "1888/1888 - 0s - loss: 1047945.7637 - accuracy: 0.0667\n",
      "Epoch 45/60\n",
      "1888/1888 - 0s - loss: 1039593.2184 - accuracy: 0.0667\n",
      "Epoch 46/60\n",
      "1888/1888 - 0s - loss: 1032390.6522 - accuracy: 0.0667\n",
      "Epoch 47/60\n",
      "1888/1888 - 0s - loss: 1027395.1134 - accuracy: 0.0667\n",
      "Epoch 48/60\n",
      "1888/1888 - 0s - loss: 1021568.8658 - accuracy: 0.0667\n",
      "Epoch 49/60\n",
      "1888/1888 - 0s - loss: 1016959.3993 - accuracy: 0.0667\n",
      "Epoch 50/60\n",
      "1888/1888 - 0s - loss: 1011693.8487 - accuracy: 0.0667\n",
      "Epoch 51/60\n",
      "1888/1888 - 0s - loss: 1008297.5626 - accuracy: 0.0667\n",
      "Epoch 52/60\n",
      "1888/1888 - 0s - loss: 1004414.8770 - accuracy: 0.0667\n",
      "Epoch 53/60\n",
      "1888/1888 - 0s - loss: 1000812.1130 - accuracy: 0.0667\n",
      "Epoch 54/60\n",
      "1888/1888 - 0s - loss: 996807.4272 - accuracy: 0.0667\n",
      "Epoch 55/60\n",
      "1888/1888 - 0s - loss: 994962.7143 - accuracy: 0.0667\n",
      "Epoch 56/60\n",
      "1888/1888 - 0s - loss: 992003.6041 - accuracy: 0.0667\n",
      "Epoch 57/60\n",
      "1888/1888 - 0s - loss: 989882.7673 - accuracy: 0.0667\n",
      "Epoch 58/60\n",
      "1888/1888 - 0s - loss: 987844.6462 - accuracy: 0.0667\n",
      "Epoch 59/60\n",
      "1888/1888 - 0s - loss: 985243.4277 - accuracy: 0.0667\n",
      "Epoch 60/60\n",
      "1888/1888 - 0s - loss: 983194.7027 - accuracy: 0.0667\n"
     ]
    },
    {
     "data": {
      "text/plain": [
       "<tensorflow.python.keras.callbacks.History at 0x1a403d2110>"
      ]
     },
     "execution_count": 55,
     "metadata": {},
     "output_type": "execute_result"
    }
   ],
   "source": [
    "model3.compile(optimizer='adam',\n",
    "              loss='mean_squared_error',\n",
    "              metrics=['accuracy'])\n",
    "model3.fit(\n",
    "    X_train_scaled,\n",
    "    Y_train,\n",
    "    epochs=60,\n",
    "    shuffle=True,\n",
    "    verbose=2\n",
    ")"
   ]
  },
  {
   "cell_type": "code",
   "execution_count": 56,
   "metadata": {},
   "outputs": [],
   "source": [
    "history = model3.fit(X_train_scaled, Y_train, validation_data=(X_test_scaled, Y_test), epochs=60, verbose=0)"
   ]
  },
  {
   "cell_type": "code",
   "execution_count": 57,
   "metadata": {},
   "outputs": [
    {
     "name": "stdout",
     "output_type": "stream",
     "text": [
      "Neural Network - Loss: 909979.7323887711, Accuracy: 0.06673728674650192\n"
     ]
    }
   ],
   "source": [
    "model_loss, model_accuracy = model3.evaluate(\n",
    "    X_train_scaled, Y_train, verbose=0)\n",
    "print(\n",
    "    f\"Neural Network - Loss: {model_loss}, Accuracy: {model_accuracy}\")"
   ]
  },
  {
   "cell_type": "code",
   "execution_count": 58,
   "metadata": {},
   "outputs": [],
   "source": [
    "model3.save(\"covid_model_3_trained.h5\")"
   ]
  },
  {
   "cell_type": "code",
   "execution_count": 59,
   "metadata": {},
   "outputs": [],
   "source": [
    "from tensorflow.keras.models import load_model\n",
    "covid_model_3 = load_model(\"covid_model_3_trained.h5\")"
   ]
  },
  {
   "cell_type": "code",
   "execution_count": 60,
   "metadata": {},
   "outputs": [
    {
     "name": "stdout",
     "output_type": "stream",
     "text": [
      "Neural Network - Loss: 29293808.6828125, Accuracy: 0.0634920671582222\n"
     ]
    }
   ],
   "source": [
    "model_loss, model_accuracy = covid_model_3.evaluate(\n",
    "    X_test_scaled, Y_test, verbose=0)\n",
    "print(\n",
    "    f\"Neural Network - Loss: {model_loss}, Accuracy: {model_accuracy}\")"
   ]
  },
  {
   "cell_type": "code",
   "execution_count": 61,
   "metadata": {
    "scrolled": true
   },
   "outputs": [
    {
     "data": {
      "image/png": "[encoded data removed]",
      "text/plain": [
       "<Figure size 432x288 with 1 Axes>"
      ]
     },
     "metadata": {
      "needs_background": "light"
     },
     "output_type": "display_data"
    }
   ],
   "source": [
    "from matplotlib import pyplot\n",
    "pyplot.title('Loss / Mean Squared Error')\n",
    "pyplot.plot(history.history['loss'], label='train')\n",
    "pyplot.plot(history.history['val_loss'], label='test')\n",
    "pyplot.legend()\n",
    "pyplot.show()"
   ]
  },
  {
   "cell_type": "markdown",
   "metadata": {},
   "source": [
    "# MODEL 4 #"
   ]
  },
  {
   "cell_type": "code",
   "execution_count": 62,
   "metadata": {},
   "outputs": [],
   "source": [
    "# Model 4: Linear regression using confirmed (summed count) from SVI (X scaled) and mean squared logarithmic error\n",
    "X = covsoc[['AREA_SQMI','E_HU', 'E_HH', 'E_POV', 'E_UNEMP', 'E_PCI', 'E_NOHSDP', 'E_AGE65', 'E_AGE17', 'E_DISABL', 'E_SNGPNT', 'E_MINRTY', 'E_LIMENG', 'E_MUNIT', 'E_MOBILE', 'E_CROWD', 'E_NOVEH', 'E_GROUPQ']]"
   ]
  },
  {
   "cell_type": "code",
   "execution_count": 63,
   "metadata": {},
   "outputs": [],
   "source": [
    "Y = covsoc['confirmed'].values.reshape(-1,1)"
   ]
  },
  {
   "cell_type": "code",
   "execution_count": 64,
   "metadata": {},
   "outputs": [],
   "source": [
    "# Train, test, split, and scale\n",
    "X_train, X_test, Y_train, Y_test = train_test_split(\n",
    "    X, Y, random_state=1)\n",
    "X_scaler = StandardScaler().fit(X_train)\n",
    "X_train_scaled = X_scaler.transform(X_train)\n",
    "X_test_scaled = X_scaler.transform(X_test)"
   ]
  },
  {
   "cell_type": "code",
   "execution_count": 65,
   "metadata": {},
   "outputs": [],
   "source": [
    "X_train_scaled = np.asarray(X_train_scaled)\n",
    "Y_train = np.asarray(Y_train)\n",
    "X_test_scaled = np.asarray(X_test_scaled)\n",
    "Y_test = np.asarray(Y_test)"
   ]
  },
  {
   "cell_type": "code",
   "execution_count": 66,
   "metadata": {},
   "outputs": [
    {
     "data": {
      "text/plain": [
       "(1888, 18)"
      ]
     },
     "execution_count": 66,
     "metadata": {},
     "output_type": "execute_result"
    }
   ],
   "source": [
    "X_train_scaled.shape"
   ]
  },
  {
   "cell_type": "code",
   "execution_count": 67,
   "metadata": {},
   "outputs": [
    {
     "data": {
      "text/plain": [
       "(630, 18)"
      ]
     },
     "execution_count": 67,
     "metadata": {},
     "output_type": "execute_result"
    }
   ],
   "source": [
    "X_test_scaled.shape"
   ]
  },
  {
   "cell_type": "code",
   "execution_count": 68,
   "metadata": {},
   "outputs": [
    {
     "data": {
      "text/plain": [
       "(1888, 1)"
      ]
     },
     "execution_count": 68,
     "metadata": {},
     "output_type": "execute_result"
    }
   ],
   "source": [
    "Y_train.shape"
   ]
  },
  {
   "cell_type": "code",
   "execution_count": 69,
   "metadata": {},
   "outputs": [
    {
     "data": {
      "text/plain": [
       "(630, 1)"
      ]
     },
     "execution_count": 69,
     "metadata": {},
     "output_type": "execute_result"
    }
   ],
   "source": [
    "Y_test.shape"
   ]
  },
  {
   "cell_type": "code",
   "execution_count": 70,
   "metadata": {},
   "outputs": [],
   "source": [
    "# Create an empty sequential model\n",
    "model4 = Sequential()"
   ]
  },
  {
   "cell_type": "code",
   "execution_count": 71,
   "metadata": {},
   "outputs": [],
   "source": [
    "model4.add(Dense(6, input_dim=18, activation='relu'))\n",
    "model4.add(Dense(units=3, activation='relu'))\n",
    "model4.add(Dense(units=1))\n",
    "opt = SGD(lr=0.01, momentum=0.9)"
   ]
  },
  {
   "cell_type": "code",
   "execution_count": 72,
   "metadata": {},
   "outputs": [
    {
     "name": "stdout",
     "output_type": "stream",
     "text": [
      "Model: \"sequential_3\"\n",
      "_________________________________________________________________\n",
      "Layer (type)                 Output Shape              Param #   \n",
      "=================================================================\n",
      "dense_9 (Dense)              (None, 6)                 114       \n",
      "_________________________________________________________________\n",
      "dense_10 (Dense)             (None, 3)                 21        \n",
      "_________________________________________________________________\n",
      "dense_11 (Dense)             (None, 1)                 4         \n",
      "=================================================================\n",
      "Total params: 139\n",
      "Trainable params: 139\n",
      "Non-trainable params: 0\n",
      "_________________________________________________________________\n"
     ]
    }
   ],
   "source": [
    "model4.summary()"
   ]
  },
  {
   "cell_type": "code",
   "execution_count": 73,
   "metadata": {
    "scrolled": true
   },
   "outputs": [
    {
     "name": "stdout",
     "output_type": "stream",
     "text": [
      "Train on 1888 samples\n",
      "Epoch 1/60\n",
      "1888/1888 - 1s - loss: 14.2551 - accuracy: 0.0122\n",
      "Epoch 2/60\n",
      "1888/1888 - 0s - loss: 13.1174 - accuracy: 0.0524\n",
      "Epoch 3/60\n",
      "1888/1888 - 0s - loss: 11.8597 - accuracy: 0.0667\n",
      "Epoch 4/60\n",
      "1888/1888 - 0s - loss: 10.6369 - accuracy: 0.0667\n",
      "Epoch 5/60\n",
      "1888/1888 - 0s - loss: 9.3627 - accuracy: 0.0667\n",
      "Epoch 6/60\n",
      "1888/1888 - 0s - loss: 8.1796 - accuracy: 0.0667\n",
      "Epoch 7/60\n",
      "1888/1888 - 0s - loss: 7.2732 - accuracy: 0.0667\n",
      "Epoch 8/60\n",
      "1888/1888 - 0s - loss: 6.5676 - accuracy: 0.0667\n",
      "Epoch 9/60\n",
      "1888/1888 - 0s - loss: 6.0204 - accuracy: 0.0667\n",
      "Epoch 10/60\n",
      "1888/1888 - 0s - loss: 5.5801 - accuracy: 0.0667\n",
      "Epoch 11/60\n",
      "1888/1888 - 0s - loss: 5.2197 - accuracy: 0.0667\n",
      "Epoch 12/60\n",
      "1888/1888 - 0s - loss: 4.9169 - accuracy: 0.0667\n",
      "Epoch 13/60\n",
      "1888/1888 - 0s - loss: 4.6577 - accuracy: 0.0667\n",
      "Epoch 14/60\n",
      "1888/1888 - 0s - loss: 4.4314 - accuracy: 0.0667\n",
      "Epoch 15/60\n",
      "1888/1888 - 0s - loss: 4.2283 - accuracy: 0.0667\n",
      "Epoch 16/60\n",
      "1888/1888 - 0s - loss: 4.0455 - accuracy: 0.0667\n",
      "Epoch 17/60\n",
      "1888/1888 - 0s - loss: 3.8747 - accuracy: 0.0667\n",
      "Epoch 18/60\n",
      "1888/1888 - 0s - loss: 3.7132 - accuracy: 0.0667\n",
      "Epoch 19/60\n",
      "1888/1888 - 0s - loss: 3.5552 - accuracy: 0.0667\n",
      "Epoch 20/60\n",
      "1888/1888 - 0s - loss: 3.3983 - accuracy: 0.0667\n",
      "Epoch 21/60\n",
      "1888/1888 - 0s - loss: 3.2376 - accuracy: 0.0667\n",
      "Epoch 22/60\n",
      "1888/1888 - 0s - loss: 3.0815 - accuracy: 0.0667\n",
      "Epoch 23/60\n",
      "1888/1888 - 0s - loss: 2.9457 - accuracy: 0.0667\n",
      "Epoch 24/60\n",
      "1888/1888 - 0s - loss: 2.8281 - accuracy: 0.0667\n",
      "Epoch 25/60\n",
      "1888/1888 - 0s - loss: 2.7206 - accuracy: 0.0667\n",
      "Epoch 26/60\n",
      "1888/1888 - 0s - loss: 2.6181 - accuracy: 0.0667\n",
      "Epoch 27/60\n",
      "1888/1888 - 0s - loss: 2.5223 - accuracy: 0.0667\n",
      "Epoch 28/60\n",
      "1888/1888 - 0s - loss: 2.4290 - accuracy: 0.0667\n",
      "Epoch 29/60\n",
      "1888/1888 - 0s - loss: 2.3413 - accuracy: 0.0667\n",
      "Epoch 30/60\n",
      "1888/1888 - 0s - loss: 2.2578 - accuracy: 0.0667\n",
      "Epoch 31/60\n",
      "1888/1888 - 0s - loss: 2.1787 - accuracy: 0.0667\n",
      "Epoch 32/60\n",
      "1888/1888 - 0s - loss: 2.1042 - accuracy: 0.0667\n",
      "Epoch 33/60\n",
      "1888/1888 - 0s - loss: 2.0326 - accuracy: 0.0667\n",
      "Epoch 34/60\n",
      "1888/1888 - 0s - loss: 1.9647 - accuracy: 0.0667\n",
      "Epoch 35/60\n",
      "1888/1888 - 0s - loss: 1.9001 - accuracy: 0.0667\n",
      "Epoch 36/60\n",
      "1888/1888 - 0s - loss: 1.8371 - accuracy: 0.0667\n",
      "Epoch 37/60\n",
      "1888/1888 - 0s - loss: 1.7783 - accuracy: 0.0667\n",
      "Epoch 38/60\n",
      "1888/1888 - 0s - loss: 1.7229 - accuracy: 0.0667\n",
      "Epoch 39/60\n",
      "1888/1888 - 0s - loss: 1.6705 - accuracy: 0.0667\n",
      "Epoch 40/60\n",
      "1888/1888 - 0s - loss: 1.6234 - accuracy: 0.0667\n",
      "Epoch 41/60\n",
      "1888/1888 - 0s - loss: 1.5808 - accuracy: 0.0667\n",
      "Epoch 42/60\n",
      "1888/1888 - 0s - loss: 1.5421 - accuracy: 0.0667\n",
      "Epoch 43/60\n",
      "1888/1888 - 0s - loss: 1.5077 - accuracy: 0.0667\n",
      "Epoch 44/60\n",
      "1888/1888 - 0s - loss: 1.4755 - accuracy: 0.0667\n",
      "Epoch 45/60\n",
      "1888/1888 - 0s - loss: 1.4474 - accuracy: 0.0667\n",
      "Epoch 46/60\n",
      "1888/1888 - 0s - loss: 1.4216 - accuracy: 0.0667\n",
      "Epoch 47/60\n",
      "1888/1888 - 0s - loss: 1.3976 - accuracy: 0.0667\n",
      "Epoch 48/60\n",
      "1888/1888 - 0s - loss: 1.3758 - accuracy: 0.0667\n",
      "Epoch 49/60\n",
      "1888/1888 - 0s - loss: 1.3566 - accuracy: 0.0667\n",
      "Epoch 50/60\n",
      "1888/1888 - 0s - loss: 1.3375 - accuracy: 0.0667\n",
      "Epoch 51/60\n",
      "1888/1888 - 0s - loss: 1.3203 - accuracy: 0.0667\n",
      "Epoch 52/60\n",
      "1888/1888 - 0s - loss: 1.3046 - accuracy: 0.0667\n",
      "Epoch 53/60\n",
      "1888/1888 - 0s - loss: 1.2897 - accuracy: 0.0667\n",
      "Epoch 54/60\n",
      "1888/1888 - 0s - loss: 1.2756 - accuracy: 0.0667\n",
      "Epoch 55/60\n",
      "1888/1888 - 0s - loss: 1.2635 - accuracy: 0.0667\n",
      "Epoch 56/60\n",
      "1888/1888 - 0s - loss: 1.2522 - accuracy: 0.0667\n",
      "Epoch 57/60\n",
      "1888/1888 - 0s - loss: 1.2410 - accuracy: 0.0667\n",
      "Epoch 58/60\n",
      "1888/1888 - 0s - loss: 1.2313 - accuracy: 0.0667\n",
      "Epoch 59/60\n",
      "1888/1888 - 0s - loss: 1.2222 - accuracy: 0.0667\n",
      "Epoch 60/60\n",
      "1888/1888 - 0s - loss: 1.2127 - accuracy: 0.0667\n"
     ]
    },
    {
     "data": {
      "text/plain": [
       "<tensorflow.python.keras.callbacks.History at 0x1a448b1410>"
      ]
     },
     "execution_count": 73,
     "metadata": {},
     "output_type": "execute_result"
    }
   ],
   "source": [
    "model4.compile(optimizer='adam',\n",
    "              loss='mean_squared_logarithmic_error',\n",
    "              metrics=['accuracy'])\n",
    "model4.fit(\n",
    "    X_train_scaled,\n",
    "    Y_train,\n",
    "    epochs=60,\n",
    "    shuffle=True,\n",
    "    verbose=2\n",
    ")"
   ]
  },
  {
   "cell_type": "code",
   "execution_count": 74,
   "metadata": {},
   "outputs": [],
   "source": [
    "history = model4.fit(X_train_scaled, Y_train, validation_data=(X_test_scaled, Y_test), epochs=60, verbose=0)"
   ]
  },
  {
   "cell_type": "code",
   "execution_count": 75,
   "metadata": {},
   "outputs": [
    {
     "name": "stdout",
     "output_type": "stream",
     "text": [
      "Neural Network - Loss: 1.0330996730570066, Accuracy: 0.06673728674650192\n"
     ]
    }
   ],
   "source": [
    "model_loss, model_accuracy = model4.evaluate(\n",
    "    X_train_scaled, Y_train, verbose=0)\n",
    "print(\n",
    "    f\"Neural Network - Loss: {model_loss}, Accuracy: {model_accuracy}\")"
   ]
  },
  {
   "cell_type": "code",
   "execution_count": 76,
   "metadata": {},
   "outputs": [],
   "source": [
    "model4.save(\"covid_model_4_trained.h5\")"
   ]
  },
  {
   "cell_type": "code",
   "execution_count": 77,
   "metadata": {},
   "outputs": [],
   "source": [
    "from tensorflow.keras.models import load_model\n",
    "covid_model_4 = load_model(\"covid_model_4_trained.h5\")"
   ]
  },
  {
   "cell_type": "code",
   "execution_count": 78,
   "metadata": {},
   "outputs": [
    {
     "name": "stdout",
     "output_type": "stream",
     "text": [
      "Neural Network - Loss: 1.05194375666361, Accuracy: 0.0634920671582222\n"
     ]
    }
   ],
   "source": [
    "model_loss, model_accuracy = covid_model_4.evaluate(\n",
    "    X_test_scaled, Y_test, verbose=0)\n",
    "print(\n",
    "    f\"Neural Network - Loss: {model_loss}, Accuracy: {model_accuracy}\")"
   ]
  },
  {
   "cell_type": "code",
   "execution_count": 79,
   "metadata": {
    "scrolled": true
   },
   "outputs": [
    {
     "data": {
      "image/png": "[encoded data removed]",
      "text/plain": [
       "<Figure size 432x288 with 1 Axes>"
      ]
     },
     "metadata": {
      "needs_background": "light"
     },
     "output_type": "display_data"
    }
   ],
   "source": [
    "from matplotlib import pyplot\n",
    "pyplot.title('Loss / Mean Squared Logarithmic Error')\n",
    "pyplot.plot(history.history['loss'], label='train')\n",
    "pyplot.plot(history.history['val_loss'], label='test')\n",
    "pyplot.legend()\n",
    "pyplot.show()"
   ]
  },
  {
   "cell_type": "markdown",
   "metadata": {},
   "source": [
    "# MODEL 5 #"
   ]
  },
  {
   "cell_type": "code",
   "execution_count": null,
   "metadata": {},
   "outputs": [],
   "source": []
  },
  {
   "cell_type": "code",
   "execution_count": null,
   "metadata": {},
   "outputs": [],
   "source": []
  },
  {
   "cell_type": "code",
   "execution_count": null,
   "metadata": {},
   "outputs": [],
   "source": []
  },
  {
   "cell_type": "code",
   "execution_count": null,
   "metadata": {},
   "outputs": [],
   "source": []
  },
  {
   "cell_type": "code",
   "execution_count": null,
   "metadata": {},
   "outputs": [],
   "source": []
  },
  {
   "cell_type": "code",
   "execution_count": null,
   "metadata": {},
   "outputs": [],
   "source": []
  }
 ],
 "metadata": {
  "kernelspec": {
   "display_name": "Python 3.7.5 64-bit ('PythonDataUpdate2': conda)",
   "language": "python",
   "name": "python37564bitpythondataupdate2condaa497fd42be2140be8553fda70837b473"
  },
  "language_info": {
   "codemirror_mode": {
    "name": "ipython",
    "version": 3
   },
   "file_extension": ".py",
   "mimetype": "text/x-python",
   "name": "python",
   "nbconvert_exporter": "python",
   "pygments_lexer": "ipython3",
   "version": "3.7.5"
  }
 },
 "nbformat": 4,
 "nbformat_minor": 4
}
