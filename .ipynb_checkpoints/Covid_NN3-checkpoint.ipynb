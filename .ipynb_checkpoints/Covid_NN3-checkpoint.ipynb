{
 "cells": [
  {
   "cell_type": "code",
   "execution_count": 1,
   "metadata": {},
   "outputs": [],
   "source": [
    "# Set the seed value for the notebook so the results are reproducible\n",
    "from numpy.random import seed\n",
    "seed(1)"
   ]
  },
  {
   "cell_type": "code",
   "execution_count": 2,
   "metadata": {},
   "outputs": [],
   "source": [
    "%matplotlib inline\n",
    "import numpy as np\n",
    "import sklearn\n",
    "import sklearn.datasets\n",
    "import pandas as pd\n",
    "import warnings\n",
    "warnings.simplefilter('ignore', FutureWarning)"
   ]
  },
  {
   "cell_type": "code",
   "execution_count": 3,
   "metadata": {},
   "outputs": [
    {
     "data": {
      "text/plain": [
       "'2.2.4-tf'"
      ]
     },
     "execution_count": 3,
     "metadata": {},
     "output_type": "execute_result"
    }
   ],
   "source": [
    "import tensorflow\n",
    "tensorflow.keras.__version__"
   ]
  },
  {
   "cell_type": "code",
   "execution_count": 4,
   "metadata": {},
   "outputs": [],
   "source": [
    "pd.options.display.max_rows = 300"
   ]
  },
  {
   "cell_type": "code",
   "execution_count": 5,
   "metadata": {},
   "outputs": [],
   "source": [
    "pd.options.display.max_columns = 200"
   ]
  },
  {
   "cell_type": "code",
   "execution_count": 6,
   "metadata": {},
   "outputs": [],
   "source": [
    "# Read in CSV file\n",
    "covsoc = pd.read_csv('../COVID-19-Predictive-Modelling/assets/data/Merged/covsoc.csv')"
   ]
  },
  {
   "cell_type": "code",
   "execution_count": 7,
   "metadata": {},
   "outputs": [
    {
     "data": {
      "text/html": [
       "<div>\n",
       "<style scoped>\n",
       "    .dataframe tbody tr th:only-of-type {\n",
       "        vertical-align: middle;\n",
       "    }\n",
       "\n",
       "    .dataframe tbody tr th {\n",
       "        vertical-align: top;\n",
       "    }\n",
       "\n",
       "    .dataframe thead th {\n",
       "        text-align: right;\n",
       "    }\n",
       "</style>\n",
       "<table border=\"1\" class=\"dataframe\">\n",
       "  <thead>\n",
       "    <tr style=\"text-align: right;\">\n",
       "      <th></th>\n",
       "      <th>Unnamed: 0</th>\n",
       "      <th>name</th>\n",
       "      <th>date</th>\n",
       "      <th>fips</th>\n",
       "      <th>lat</th>\n",
       "      <th>long</th>\n",
       "      <th>confirmed</th>\n",
       "      <th>deaths</th>\n",
       "      <th>confirmed_diff</th>\n",
       "      <th>deaths_diff</th>\n",
       "      <th>state</th>\n",
       "      <th>state_abbr</th>\n",
       "      <th>lockdown_date</th>\n",
       "      <th>lockdown_plus_30</th>\n",
       "      <th>ST</th>\n",
       "      <th>STATE</th>\n",
       "      <th>COUNTY</th>\n",
       "      <th>AREA_SQMI</th>\n",
       "      <th>E_TOTPOP</th>\n",
       "      <th>E_HU</th>\n",
       "      <th>E_HH</th>\n",
       "      <th>E_POV</th>\n",
       "      <th>E_UNEMP</th>\n",
       "      <th>E_PCI</th>\n",
       "      <th>E_NOHSDP</th>\n",
       "      <th>E_AGE65</th>\n",
       "      <th>E_AGE17</th>\n",
       "      <th>E_DISABL</th>\n",
       "      <th>E_SNGPNT</th>\n",
       "      <th>E_MINRTY</th>\n",
       "      <th>E_LIMENG</th>\n",
       "      <th>E_MUNIT</th>\n",
       "      <th>E_MOBILE</th>\n",
       "      <th>E_CROWD</th>\n",
       "      <th>E_NOVEH</th>\n",
       "      <th>E_GROUPQ</th>\n",
       "      <th>percent_confirmed</th>\n",
       "      <th>percent_deaths</th>\n",
       "    </tr>\n",
       "  </thead>\n",
       "  <tbody>\n",
       "    <tr>\n",
       "      <th>0</th>\n",
       "      <td>0</td>\n",
       "      <td>Autauga</td>\n",
       "      <td>2020-05-03</td>\n",
       "      <td>1001</td>\n",
       "      <td>32.539527</td>\n",
       "      <td>-86.644082</td>\n",
       "      <td>48</td>\n",
       "      <td>3</td>\n",
       "      <td>3</td>\n",
       "      <td>0</td>\n",
       "      <td>Alabama</td>\n",
       "      <td>AL</td>\n",
       "      <td>2020-04-03</td>\n",
       "      <td>2020-05-03</td>\n",
       "      <td>1</td>\n",
       "      <td>ALABAMA</td>\n",
       "      <td>Autauga</td>\n",
       "      <td>594.443459</td>\n",
       "      <td>55200</td>\n",
       "      <td>23315</td>\n",
       "      <td>21115</td>\n",
       "      <td>8422</td>\n",
       "      <td>1065</td>\n",
       "      <td>29372</td>\n",
       "      <td>4204</td>\n",
       "      <td>8050</td>\n",
       "      <td>13369</td>\n",
       "      <td>10465</td>\n",
       "      <td>1586</td>\n",
       "      <td>13788</td>\n",
       "      <td>426</td>\n",
       "      <td>886</td>\n",
       "      <td>4279</td>\n",
       "      <td>299</td>\n",
       "      <td>1191</td>\n",
       "      <td>546</td>\n",
       "      <td>0.000016</td>\n",
       "      <td>9.894000e-07</td>\n",
       "    </tr>\n",
       "    <tr>\n",
       "      <th>1</th>\n",
       "      <td>1</td>\n",
       "      <td>Baldwin</td>\n",
       "      <td>2020-05-03</td>\n",
       "      <td>1003</td>\n",
       "      <td>30.727750</td>\n",
       "      <td>-87.722071</td>\n",
       "      <td>187</td>\n",
       "      <td>4</td>\n",
       "      <td>6</td>\n",
       "      <td>0</td>\n",
       "      <td>Alabama</td>\n",
       "      <td>AL</td>\n",
       "      <td>2020-04-03</td>\n",
       "      <td>2020-05-03</td>\n",
       "      <td>1</td>\n",
       "      <td>ALABAMA</td>\n",
       "      <td>Baldwin</td>\n",
       "      <td>1589.793007</td>\n",
       "      <td>208107</td>\n",
       "      <td>111945</td>\n",
       "      <td>78622</td>\n",
       "      <td>21653</td>\n",
       "      <td>4343</td>\n",
       "      <td>31203</td>\n",
       "      <td>14310</td>\n",
       "      <td>40665</td>\n",
       "      <td>45677</td>\n",
       "      <td>28863</td>\n",
       "      <td>4508</td>\n",
       "      <td>35339</td>\n",
       "      <td>1068</td>\n",
       "      <td>20492</td>\n",
       "      <td>13075</td>\n",
       "      <td>991</td>\n",
       "      <td>2705</td>\n",
       "      <td>3014</td>\n",
       "      <td>0.000062</td>\n",
       "      <td>1.319100e-06</td>\n",
       "    </tr>\n",
       "    <tr>\n",
       "      <th>2</th>\n",
       "      <td>2</td>\n",
       "      <td>Barbour</td>\n",
       "      <td>2020-05-03</td>\n",
       "      <td>1005</td>\n",
       "      <td>31.868263</td>\n",
       "      <td>-85.387129</td>\n",
       "      <td>45</td>\n",
       "      <td>1</td>\n",
       "      <td>2</td>\n",
       "      <td>0</td>\n",
       "      <td>Alabama</td>\n",
       "      <td>AL</td>\n",
       "      <td>2020-04-03</td>\n",
       "      <td>2020-05-03</td>\n",
       "      <td>1</td>\n",
       "      <td>ALABAMA</td>\n",
       "      <td>Barbour</td>\n",
       "      <td>885.001636</td>\n",
       "      <td>25782</td>\n",
       "      <td>11937</td>\n",
       "      <td>9186</td>\n",
       "      <td>6597</td>\n",
       "      <td>918</td>\n",
       "      <td>18461</td>\n",
       "      <td>4901</td>\n",
       "      <td>4634</td>\n",
       "      <td>5436</td>\n",
       "      <td>5078</td>\n",
       "      <td>1174</td>\n",
       "      <td>13884</td>\n",
       "      <td>398</td>\n",
       "      <td>152</td>\n",
       "      <td>3484</td>\n",
       "      <td>313</td>\n",
       "      <td>849</td>\n",
       "      <td>2900</td>\n",
       "      <td>0.000015</td>\n",
       "      <td>3.298000e-07</td>\n",
       "    </tr>\n",
       "    <tr>\n",
       "      <th>3</th>\n",
       "      <td>3</td>\n",
       "      <td>Bibb</td>\n",
       "      <td>2020-05-03</td>\n",
       "      <td>1007</td>\n",
       "      <td>32.996421</td>\n",
       "      <td>-87.125115</td>\n",
       "      <td>43</td>\n",
       "      <td>0</td>\n",
       "      <td>1</td>\n",
       "      <td>0</td>\n",
       "      <td>Alabama</td>\n",
       "      <td>AL</td>\n",
       "      <td>2020-04-03</td>\n",
       "      <td>2020-05-03</td>\n",
       "      <td>1</td>\n",
       "      <td>ALABAMA</td>\n",
       "      <td>Bibb</td>\n",
       "      <td>622.461089</td>\n",
       "      <td>22527</td>\n",
       "      <td>9161</td>\n",
       "      <td>6840</td>\n",
       "      <td>2863</td>\n",
       "      <td>658</td>\n",
       "      <td>20199</td>\n",
       "      <td>2650</td>\n",
       "      <td>3661</td>\n",
       "      <td>4659</td>\n",
       "      <td>3412</td>\n",
       "      <td>407</td>\n",
       "      <td>5726</td>\n",
       "      <td>57</td>\n",
       "      <td>222</td>\n",
       "      <td>2615</td>\n",
       "      <td>52</td>\n",
       "      <td>410</td>\n",
       "      <td>2091</td>\n",
       "      <td>0.000014</td>\n",
       "      <td>0.000000e+00</td>\n",
       "    </tr>\n",
       "    <tr>\n",
       "      <th>4</th>\n",
       "      <td>4</td>\n",
       "      <td>Blount</td>\n",
       "      <td>2020-05-03</td>\n",
       "      <td>1009</td>\n",
       "      <td>33.982109</td>\n",
       "      <td>-86.567906</td>\n",
       "      <td>40</td>\n",
       "      <td>0</td>\n",
       "      <td>0</td>\n",
       "      <td>0</td>\n",
       "      <td>Alabama</td>\n",
       "      <td>AL</td>\n",
       "      <td>2020-04-03</td>\n",
       "      <td>2020-05-03</td>\n",
       "      <td>1</td>\n",
       "      <td>ALABAMA</td>\n",
       "      <td>Blount</td>\n",
       "      <td>644.830460</td>\n",
       "      <td>57645</td>\n",
       "      <td>24222</td>\n",
       "      <td>20600</td>\n",
       "      <td>8220</td>\n",
       "      <td>909</td>\n",
       "      <td>22656</td>\n",
       "      <td>7861</td>\n",
       "      <td>10233</td>\n",
       "      <td>13468</td>\n",
       "      <td>8114</td>\n",
       "      <td>1437</td>\n",
       "      <td>7413</td>\n",
       "      <td>934</td>\n",
       "      <td>211</td>\n",
       "      <td>6108</td>\n",
       "      <td>339</td>\n",
       "      <td>856</td>\n",
       "      <td>543</td>\n",
       "      <td>0.000013</td>\n",
       "      <td>0.000000e+00</td>\n",
       "    </tr>\n",
       "  </tbody>\n",
       "</table>\n",
       "</div>"
      ],
      "text/plain": [
       "   Unnamed: 0     name        date  fips        lat       long  confirmed  \\\n",
       "0           0  Autauga  2020-05-03  1001  32.539527 -86.644082         48   \n",
       "1           1  Baldwin  2020-05-03  1003  30.727750 -87.722071        187   \n",
       "2           2  Barbour  2020-05-03  1005  31.868263 -85.387129         45   \n",
       "3           3     Bibb  2020-05-03  1007  32.996421 -87.125115         43   \n",
       "4           4   Blount  2020-05-03  1009  33.982109 -86.567906         40   \n",
       "\n",
       "   deaths  confirmed_diff  deaths_diff    state state_abbr lockdown_date  \\\n",
       "0       3               3            0  Alabama         AL    2020-04-03   \n",
       "1       4               6            0  Alabama         AL    2020-04-03   \n",
       "2       1               2            0  Alabama         AL    2020-04-03   \n",
       "3       0               1            0  Alabama         AL    2020-04-03   \n",
       "4       0               0            0  Alabama         AL    2020-04-03   \n",
       "\n",
       "  lockdown_plus_30  ST    STATE   COUNTY    AREA_SQMI  E_TOTPOP    E_HU  \\\n",
       "0       2020-05-03   1  ALABAMA  Autauga   594.443459     55200   23315   \n",
       "1       2020-05-03   1  ALABAMA  Baldwin  1589.793007    208107  111945   \n",
       "2       2020-05-03   1  ALABAMA  Barbour   885.001636     25782   11937   \n",
       "3       2020-05-03   1  ALABAMA     Bibb   622.461089     22527    9161   \n",
       "4       2020-05-03   1  ALABAMA   Blount   644.830460     57645   24222   \n",
       "\n",
       "    E_HH  E_POV  E_UNEMP  E_PCI  E_NOHSDP  E_AGE65  E_AGE17  E_DISABL  \\\n",
       "0  21115   8422     1065  29372      4204     8050    13369     10465   \n",
       "1  78622  21653     4343  31203     14310    40665    45677     28863   \n",
       "2   9186   6597      918  18461      4901     4634     5436      5078   \n",
       "3   6840   2863      658  20199      2650     3661     4659      3412   \n",
       "4  20600   8220      909  22656      7861    10233    13468      8114   \n",
       "\n",
       "   E_SNGPNT  E_MINRTY  E_LIMENG  E_MUNIT  E_MOBILE  E_CROWD  E_NOVEH  \\\n",
       "0      1586     13788       426      886      4279      299     1191   \n",
       "1      4508     35339      1068    20492     13075      991     2705   \n",
       "2      1174     13884       398      152      3484      313      849   \n",
       "3       407      5726        57      222      2615       52      410   \n",
       "4      1437      7413       934      211      6108      339      856   \n",
       "\n",
       "   E_GROUPQ  percent_confirmed  percent_deaths  \n",
       "0       546           0.000016    9.894000e-07  \n",
       "1      3014           0.000062    1.319100e-06  \n",
       "2      2900           0.000015    3.298000e-07  \n",
       "3      2091           0.000014    0.000000e+00  \n",
       "4       543           0.000013    0.000000e+00  "
      ]
     },
     "execution_count": 7,
     "metadata": {},
     "output_type": "execute_result"
    }
   ],
   "source": [
    "covsoc.head()"
   ]
  },
  {
   "cell_type": "code",
   "execution_count": 8,
   "metadata": {},
   "outputs": [
    {
     "data": {
      "text/plain": [
       "(2518, 38)"
      ]
     },
     "execution_count": 8,
     "metadata": {},
     "output_type": "execute_result"
    }
   ],
   "source": [
    "covsoc.shape"
   ]
  },
  {
   "cell_type": "code",
   "execution_count": null,
   "metadata": {},
   "outputs": [],
   "source": []
  },
  {
   "cell_type": "code",
   "execution_count": null,
   "metadata": {},
   "outputs": [],
   "source": [
    "# NN MODELING"
   ]
  },
  {
   "cell_type": "code",
   "execution_count": 9,
   "metadata": {},
   "outputs": [
    {
     "name": "stderr",
     "output_type": "stream",
     "text": [
      "Using TensorFlow backend.\n"
     ]
    }
   ],
   "source": [
    "from tensorflow.keras.models import Sequential\n",
    "from tensorflow.keras.utils import to_categorical\n",
    "from tensorflow.keras.layers import Dense\n",
    "from sklearn.preprocessing import LabelEncoder, MinMaxScaler\n",
    "from sklearn.preprocessing import StandardScaler\n",
    "from sklearn.model_selection import train_test_split\n",
    "from sklearn.metrics import mean_squared_error\n",
    "from math import sqrt\n",
    "# Not able to get SGD to work\n",
    "from keras.optimizers import SGD"
   ]
  },
  {
   "cell_type": "markdown",
   "metadata": {},
   "source": [
    "# MODEL 1 #"
   ]
  },
  {
   "cell_type": "code",
   "execution_count": 318,
   "metadata": {},
   "outputs": [],
   "source": [
    "# Model 1: Linear regression using confirmed (summed count) from SVI (neither scaled) and mean squared error\n",
    "X = covsoc[['AREA_SQMI','E_HU', 'E_HH', 'E_POV', 'E_UNEMP', 'E_PCI', 'E_NOHSDP', 'E_AGE65', 'E_AGE17', 'E_DISABL', 'E_SNGPNT', 'E_MINRTY', 'E_LIMENG', 'E_MUNIT', 'E_MOBILE', 'E_CROWD', 'E_NOVEH', 'E_GROUPQ']]"
   ]
  },
  {
   "cell_type": "code",
   "execution_count": 319,
   "metadata": {},
   "outputs": [],
   "source": [
    "Y = covsoc['confirmed']"
   ]
  },
  {
   "cell_type": "code",
   "execution_count": 320,
   "metadata": {},
   "outputs": [
    {
     "name": "stdout",
     "output_type": "stream",
     "text": [
      "(1762, 18)\n",
      "(756, 18)\n",
      "(1762,)\n",
      "(756,)\n"
     ]
    }
   ],
   "source": [
    "# Train, test split\n",
    "X_train, X_test, Y_train, Y_test = train_test_split(X, Y, test_size=0.30, random_state=40)\n",
    "print(X_train.shape); print(X_test.shape); print(Y_train.shape); print(Y_test.shape)"
   ]
  },
  {
   "cell_type": "code",
   "execution_count": 321,
   "metadata": {},
   "outputs": [],
   "source": [
    "X_train = np.asarray(X_train)\n",
    "Y_train = np.asarray(Y_train)\n",
    "X_test = np.asarray(X_test)\n",
    "Y_test = np.asarray(Y_test)"
   ]
  },
  {
   "cell_type": "code",
   "execution_count": 322,
   "metadata": {},
   "outputs": [],
   "source": [
    "# Create an empty sequential model\n",
    "model = Sequential()"
   ]
  },
  {
   "cell_type": "code",
   "execution_count": 349,
   "metadata": {},
   "outputs": [],
   "source": [
    "model.add(Dense(units=6, activation='linear', input_dim=18))\n",
    "model.add(Dense(units=3, activation='linear'))\n",
    "model.add(Dense(units=1, activation='linear'))\n",
    "opt = SGD(lr=0.01, momentum=0.9)"
   ]
  },
  {
   "cell_type": "code",
   "execution_count": 350,
   "metadata": {
    "scrolled": false
   },
   "outputs": [
    {
     "name": "stdout",
     "output_type": "stream",
     "text": [
      "Model: \"sequential_15\"\n",
      "_________________________________________________________________\n",
      "Layer (type)                 Output Shape              Param #   \n",
      "=================================================================\n",
      "dense_92 (Dense)             (None, 3)                 57        \n",
      "_________________________________________________________________\n",
      "dense_93 (Dense)             (None, 1)                 4         \n",
      "_________________________________________________________________\n",
      "dense_94 (Dense)             (None, 12)                24        \n",
      "_________________________________________________________________\n",
      "dense_95 (Dense)             (None, 6)                 78        \n",
      "_________________________________________________________________\n",
      "dense_96 (Dense)             (None, 1)                 7         \n",
      "_________________________________________________________________\n",
      "dense_97 (Dense)             (None, 4)                 8         \n",
      "_________________________________________________________________\n",
      "dense_98 (Dense)             (None, 1)                 5         \n",
      "_________________________________________________________________\n",
      "dense_99 (Dense)             (None, 6)                 12        \n",
      "_________________________________________________________________\n",
      "dense_100 (Dense)            (None, 3)                 21        \n",
      "_________________________________________________________________\n",
      "dense_101 (Dense)            (None, 1)                 4         \n",
      "_________________________________________________________________\n",
      "dense_102 (Dense)            (None, 6)                 12        \n",
      "_________________________________________________________________\n",
      "dense_103 (Dense)            (None, 3)                 21        \n",
      "_________________________________________________________________\n",
      "dense_104 (Dense)            (None, 1)                 4         \n",
      "=================================================================\n",
      "Total params: 220\n",
      "Trainable params: 220\n",
      "Non-trainable params: 0\n",
      "_________________________________________________________________\n"
     ]
    }
   ],
   "source": [
    "model.summary()"
   ]
  },
  {
   "cell_type": "code",
   "execution_count": 351,
   "metadata": {},
   "outputs": [
    {
     "name": "stdout",
     "output_type": "stream",
     "text": [
      "Train on 1762 samples\n",
      "Epoch 1/60\n",
      "1762/1762 - 2s - loss: 2733320.5560 - accuracy: 0.0647\n",
      "Epoch 2/60\n",
      "1762/1762 - 0s - loss: 1622824.0678 - accuracy: 0.0647\n",
      "Epoch 3/60\n",
      "1762/1762 - 0s - loss: 1384911.5677 - accuracy: 0.0647\n",
      "Epoch 4/60\n",
      "1762/1762 - 0s - loss: 1361508.2380 - accuracy: 0.0647\n",
      "Epoch 5/60\n",
      "1762/1762 - 0s - loss: 1410167.5531 - accuracy: 0.0647\n",
      "Epoch 6/60\n",
      "1762/1762 - 0s - loss: 1455542.7716 - accuracy: 0.0641\n",
      "Epoch 7/60\n",
      "1762/1762 - 0s - loss: 1365321.5646 - accuracy: 0.0647\n",
      "Epoch 8/60\n",
      "1762/1762 - 0s - loss: 1341412.1450 - accuracy: 0.0647\n",
      "Epoch 9/60\n",
      "1762/1762 - 0s - loss: 1356643.5912 - accuracy: 0.0647\n",
      "Epoch 10/60\n",
      "1762/1762 - 0s - loss: 1431506.6331 - accuracy: 0.0647\n",
      "Epoch 11/60\n",
      "1762/1762 - 0s - loss: 1505786.4935 - accuracy: 0.0647\n",
      "Epoch 12/60\n",
      "1762/1762 - 0s - loss: 1570929.1340 - accuracy: 0.0641\n",
      "Epoch 13/60\n",
      "1762/1762 - 0s - loss: 1829954.6907 - accuracy: 0.0647\n",
      "Epoch 14/60\n",
      "1762/1762 - 0s - loss: 2122087.2906 - accuracy: 0.0647\n",
      "Epoch 15/60\n",
      "1762/1762 - 0s - loss: 2713056.2582 - accuracy: 0.0641\n",
      "Epoch 16/60\n",
      "1762/1762 - 0s - loss: 1989254.7772 - accuracy: 0.0647\n",
      "Epoch 17/60\n",
      "1762/1762 - 0s - loss: 1946217.1058 - accuracy: 0.0647\n",
      "Epoch 18/60\n",
      "1762/1762 - 0s - loss: 2848280.6115 - accuracy: 0.0647\n",
      "Epoch 19/60\n",
      "1762/1762 - 0s - loss: 1700375.2643 - accuracy: 0.0641\n",
      "Epoch 20/60\n",
      "1762/1762 - 0s - loss: 2014042.4012 - accuracy: 0.0647\n",
      "Epoch 21/60\n",
      "1762/1762 - 0s - loss: 1844010.9618 - accuracy: 0.0647\n",
      "Epoch 22/60\n",
      "1762/1762 - 0s - loss: 1852943.2280 - accuracy: 0.0647\n",
      "Epoch 23/60\n",
      "1762/1762 - 0s - loss: 1482128.0349 - accuracy: 0.0647\n",
      "Epoch 24/60\n",
      "1762/1762 - 0s - loss: 1483546.8827 - accuracy: 0.0647\n",
      "Epoch 25/60\n",
      "1762/1762 - 0s - loss: 1387710.1549 - accuracy: 0.0647\n",
      "Epoch 26/60\n",
      "1762/1762 - 0s - loss: 1340908.4182 - accuracy: 0.0647\n",
      "Epoch 27/60\n",
      "1762/1762 - 0s - loss: 1353290.3064 - accuracy: 0.0641\n",
      "Epoch 28/60\n",
      "1762/1762 - 0s - loss: 1316902.4284 - accuracy: 0.0647\n",
      "Epoch 29/60\n",
      "1762/1762 - 0s - loss: 1346220.1956 - accuracy: 0.0647\n",
      "Epoch 30/60\n",
      "1762/1762 - 0s - loss: 1385761.9377 - accuracy: 0.0647\n",
      "Epoch 31/60\n",
      "1762/1762 - 0s - loss: 1390228.8086 - accuracy: 0.0641\n",
      "Epoch 32/60\n",
      "1762/1762 - 0s - loss: 1487690.5735 - accuracy: 0.0641\n",
      "Epoch 33/60\n",
      "1762/1762 - 0s - loss: 1572882.9784 - accuracy: 0.0641\n",
      "Epoch 34/60\n",
      "1762/1762 - 0s - loss: 1793880.1381 - accuracy: 0.0641\n",
      "Epoch 35/60\n",
      "1762/1762 - 0s - loss: 1595853.0100 - accuracy: 0.0647\n",
      "Epoch 36/60\n",
      "1762/1762 - 0s - loss: 1724140.2809 - accuracy: 0.0641\n",
      "Epoch 37/60\n",
      "1762/1762 - 0s - loss: 1578908.2071 - accuracy: 0.0641\n",
      "Epoch 38/60\n",
      "1762/1762 - 0s - loss: 1625750.7901 - accuracy: 0.0636\n",
      "Epoch 39/60\n",
      "1762/1762 - 0s - loss: 1442684.0466 - accuracy: 0.0647\n",
      "Epoch 40/60\n",
      "1762/1762 - 0s - loss: 1554813.1983 - accuracy: 0.0647\n",
      "Epoch 41/60\n",
      "1762/1762 - 0s - loss: 1616913.0960 - accuracy: 0.0647\n",
      "Epoch 42/60\n",
      "1762/1762 - 0s - loss: 1859065.9574 - accuracy: 0.0647\n",
      "Epoch 43/60\n",
      "1762/1762 - 0s - loss: 1417545.1140 - accuracy: 0.0641\n",
      "Epoch 44/60\n",
      "1762/1762 - 0s - loss: 1644682.4633 - accuracy: 0.0647\n",
      "Epoch 45/60\n",
      "1762/1762 - 0s - loss: 1528541.4256 - accuracy: 0.0636\n",
      "Epoch 46/60\n",
      "1762/1762 - 0s - loss: 1672219.3414 - accuracy: 0.0647\n",
      "Epoch 47/60\n",
      "1762/1762 - 0s - loss: 1586666.4480 - accuracy: 0.0641\n",
      "Epoch 48/60\n",
      "1762/1762 - 0s - loss: 1699156.0498 - accuracy: 0.0641\n",
      "Epoch 49/60\n",
      "1762/1762 - 0s - loss: 1486723.4091 - accuracy: 0.0641\n",
      "Epoch 50/60\n",
      "1762/1762 - 0s - loss: 1680071.0939 - accuracy: 0.0647\n",
      "Epoch 51/60\n",
      "1762/1762 - 0s - loss: 1448863.8393 - accuracy: 0.0619\n",
      "Epoch 52/60\n",
      "1762/1762 - 0s - loss: 1550535.9067 - accuracy: 0.0630\n",
      "Epoch 53/60\n",
      "1762/1762 - 0s - loss: 1457293.5106 - accuracy: 0.0630\n",
      "Epoch 54/60\n",
      "1762/1762 - 0s - loss: 1582274.1005 - accuracy: 0.0630\n",
      "Epoch 55/60\n",
      "1762/1762 - 0s - loss: 1549048.4957 - accuracy: 0.0636\n",
      "Epoch 56/60\n",
      "1762/1762 - 0s - loss: 1829178.1699 - accuracy: 0.0647\n",
      "Epoch 57/60\n",
      "1762/1762 - 0s - loss: 1480913.3658 - accuracy: 0.0647\n",
      "Epoch 58/60\n",
      "1762/1762 - 0s - loss: 1460473.2039 - accuracy: 0.0641\n",
      "Epoch 59/60\n",
      "1762/1762 - 0s - loss: 1407913.2021 - accuracy: 0.0636\n",
      "Epoch 60/60\n",
      "1762/1762 - 0s - loss: 1461370.0761 - accuracy: 0.0647\n"
     ]
    },
    {
     "data": {
      "text/plain": [
       "<tensorflow.python.keras.callbacks.History at 0x1a59d5a290>"
      ]
     },
     "execution_count": 351,
     "metadata": {},
     "output_type": "execute_result"
    }
   ],
   "source": [
    "model.compile(optimizer='adam',\n",
    "              loss='mean_squared_error',\n",
    "              metrics=['accuracy'])\n",
    "model.fit(\n",
    "    X_train,\n",
    "    Y_train,\n",
    "    epochs=60,\n",
    "    shuffle=True,\n",
    "    verbose=2\n",
    ")"
   ]
  },
  {
   "cell_type": "code",
   "execution_count": 352,
   "metadata": {},
   "outputs": [],
   "source": [
    "history = model.fit(X_train, Y_train, validation_data=(X_test, Y_test), epochs=60, verbose=0)"
   ]
  },
  {
   "cell_type": "code",
   "execution_count": 353,
   "metadata": {},
   "outputs": [
    {
     "name": "stdout",
     "output_type": "stream",
     "text": [
      "Neural Network - Loss: 2027242.2018702114, Accuracy: 0.061293985694646835\n"
     ]
    }
   ],
   "source": [
    "model_loss, model_accuracy = model.evaluate(\n",
    "    X_train, Y_train, verbose=0)\n",
    "print(\n",
    "    f\"Neural Network - Loss: {model_loss}, Accuracy: {model_accuracy}\")"
   ]
  },
  {
   "cell_type": "code",
   "execution_count": 354,
   "metadata": {},
   "outputs": [],
   "source": [
    "model.save(\"covid_model_trained.h5\")"
   ]
  },
  {
   "cell_type": "code",
   "execution_count": 355,
   "metadata": {},
   "outputs": [],
   "source": [
    "from tensorflow.keras.models import load_model\n",
    "covid_model = load_model(\"covid_model_trained.h5\")"
   ]
  },
  {
   "cell_type": "code",
   "execution_count": 356,
   "metadata": {},
   "outputs": [
    {
     "name": "stdout",
     "output_type": "stream",
     "text": [
      "Neural Network - Loss: 614012.8215112434, Accuracy: 0.06613756716251373\n"
     ]
    }
   ],
   "source": [
    "model_loss, model_accuracy = covid_model.evaluate(\n",
    "    X_test, Y_test, verbose=0)\n",
    "print(\n",
    "    f\"Neural Network - Loss: {model_loss}, Accuracy: {model_accuracy}\")"
   ]
  },
  {
   "cell_type": "code",
   "execution_count": 357,
   "metadata": {},
   "outputs": [
    {
     "name": "stdout",
     "output_type": "stream",
     "text": [
      "1423.8125823708622\n",
      "783.5897064410387\n"
     ]
    }
   ],
   "source": [
    "pred_train= model.predict(X_train)\n",
    "print(np.sqrt(mean_squared_error(Y_train,pred_train)))\n",
    "pred= model.predict(X_test)\n",
    "print(np.sqrt(mean_squared_error(Y_test,pred))) "
   ]
  },
  {
   "cell_type": "code",
   "execution_count": 358,
   "metadata": {},
   "outputs": [
    {
     "data": {
      "image/png": "[encoded data removed]",
      "text/plain": [
       "<Figure size 432x288 with 1 Axes>"
      ]
     },
     "metadata": {
      "needs_background": "light"
     },
     "output_type": "display_data"
    }
   ],
   "source": [
    "from matplotlib import pyplot\n",
    "pyplot.title('Loss / Mean Squared Error')\n",
    "pyplot.plot(history.history['loss'], label='train')\n",
    "pyplot.plot(history.history['val_loss'], label='test')\n",
    "pyplot.legend()\n",
    "pyplot.show()"
   ]
  },
  {
   "cell_type": "markdown",
   "metadata": {},
   "source": [
    "# MODEL 2 #"
   ]
  },
  {
   "cell_type": "code",
   "execution_count": null,
   "metadata": {},
   "outputs": [],
   "source": [
    "# I can't figure out why this keeps getting stuck at .0074 so quickly despite all the different combinations I've tried."
   ]
  },
  {
   "cell_type": "code",
   "execution_count": 231,
   "metadata": {},
   "outputs": [],
   "source": [
    "# Model 2: Linear regression using confirmed (summed count) from SVI (neither scaled) and mean squared logarithmic error\n",
    "X = covsoc[['AREA_SQMI','E_HU', 'E_HH', 'E_POV', 'E_UNEMP', 'E_PCI', 'E_NOHSDP', 'E_AGE65', 'E_AGE17', 'E_DISABL', 'E_SNGPNT', 'E_MINRTY', 'E_LIMENG', 'E_MUNIT', 'E_MOBILE', 'E_CROWD', 'E_NOVEH', 'E_GROUPQ']]"
   ]
  },
  {
   "cell_type": "code",
   "execution_count": 232,
   "metadata": {},
   "outputs": [],
   "source": [
    "Y = covsoc['confirmed']"
   ]
  },
  {
   "cell_type": "code",
   "execution_count": 233,
   "metadata": {},
   "outputs": [
    {
     "name": "stdout",
     "output_type": "stream",
     "text": [
      "(1762, 18)\n",
      "(756, 18)\n",
      "(1762,)\n",
      "(756,)\n"
     ]
    }
   ],
   "source": [
    "# Train, test split\n",
    "X_train, X_test, Y_train, Y_test = train_test_split(X, Y, test_size=0.30, random_state=40)\n",
    "print(X_train.shape); print(X_test.shape); print(Y_train.shape); print(Y_test.shape)"
   ]
  },
  {
   "cell_type": "code",
   "execution_count": 234,
   "metadata": {},
   "outputs": [],
   "source": [
    "X_train = np.asarray(X_train)\n",
    "Y_train = np.asarray(Y_train)\n",
    "X_test = np.asarray(X_test)\n",
    "Y_test = np.asarray(Y_test)"
   ]
  },
  {
   "cell_type": "code",
   "execution_count": 261,
   "metadata": {},
   "outputs": [],
   "source": [
    "# Create an empty sequential model\n",
    "model2 = Sequential()"
   ]
  },
  {
   "cell_type": "code",
   "execution_count": 262,
   "metadata": {},
   "outputs": [],
   "source": [
    "model2.add(Dense(units=6, activation='linear', input_dim=18))\n",
    "model2.add(Dense(units=3, activation='relu'))\n",
    "model2.add(Dense(units=1, activation='relu'))\n",
    "opt = SGD(lr=0.01, momentum=0.9)"
   ]
  },
  {
   "cell_type": "code",
   "execution_count": 263,
   "metadata": {
    "scrolled": true
   },
   "outputs": [
    {
     "name": "stdout",
     "output_type": "stream",
     "text": [
      "Model: \"sequential_12\"\n",
      "_________________________________________________________________\n",
      "Layer (type)                 Output Shape              Param #   \n",
      "=================================================================\n",
      "dense_80 (Dense)             (None, 6)                 114       \n",
      "_________________________________________________________________\n",
      "dense_81 (Dense)             (None, 3)                 21        \n",
      "_________________________________________________________________\n",
      "dense_82 (Dense)             (None, 1)                 4         \n",
      "=================================================================\n",
      "Total params: 139\n",
      "Trainable params: 139\n",
      "Non-trainable params: 0\n",
      "_________________________________________________________________\n"
     ]
    }
   ],
   "source": [
    "model2.summary()"
   ]
  },
  {
   "cell_type": "code",
   "execution_count": 264,
   "metadata": {},
   "outputs": [
    {
     "name": "stdout",
     "output_type": "stream",
     "text": [
      "Train on 1762 samples\n",
      "Epoch 1/60\n",
      "1762/1762 - 1s - loss: 15.7565 - accuracy: 0.0108\n",
      "Epoch 2/60\n",
      "1762/1762 - 0s - loss: 15.3172 - accuracy: 0.0079\n",
      "Epoch 3/60\n",
      "1762/1762 - 0s - loss: 15.3147 - accuracy: 0.0079\n",
      "Epoch 4/60\n",
      "1762/1762 - 0s - loss: 15.3120 - accuracy: 0.0079\n",
      "Epoch 5/60\n",
      "1762/1762 - 0s - loss: 15.3069 - accuracy: 0.0079\n",
      "Epoch 6/60\n",
      "1762/1762 - 0s - loss: 15.2864 - accuracy: 0.0079\n",
      "Epoch 7/60\n",
      "1762/1762 - 0s - loss: 15.2738 - accuracy: 0.0074\n",
      "Epoch 8/60\n",
      "1762/1762 - 0s - loss: 15.2642 - accuracy: 0.0074\n",
      "Epoch 9/60\n",
      "1762/1762 - 0s - loss: 15.2642 - accuracy: 0.0074\n",
      "Epoch 10/60\n",
      "1762/1762 - 0s - loss: 15.2642 - accuracy: 0.0074\n",
      "Epoch 11/60\n",
      "1762/1762 - 0s - loss: 15.2642 - accuracy: 0.0074\n",
      "Epoch 12/60\n",
      "1762/1762 - 0s - loss: 15.2642 - accuracy: 0.0074\n",
      "Epoch 13/60\n",
      "1762/1762 - 0s - loss: 15.2642 - accuracy: 0.0074\n",
      "Epoch 14/60\n",
      "1762/1762 - 0s - loss: 15.2642 - accuracy: 0.0074\n",
      "Epoch 15/60\n",
      "1762/1762 - 0s - loss: 15.2642 - accuracy: 0.0074\n",
      "Epoch 16/60\n",
      "1762/1762 - 0s - loss: 15.2642 - accuracy: 0.0074\n",
      "Epoch 17/60\n",
      "1762/1762 - 0s - loss: 15.2642 - accuracy: 0.0074\n",
      "Epoch 18/60\n",
      "1762/1762 - 0s - loss: 15.2642 - accuracy: 0.0074\n",
      "Epoch 19/60\n",
      "1762/1762 - 0s - loss: 15.2642 - accuracy: 0.0074\n",
      "Epoch 20/60\n",
      "1762/1762 - 0s - loss: 15.2642 - accuracy: 0.0074\n",
      "Epoch 21/60\n",
      "1762/1762 - 0s - loss: 15.2642 - accuracy: 0.0074\n",
      "Epoch 22/60\n",
      "1762/1762 - 0s - loss: 15.2642 - accuracy: 0.0074\n",
      "Epoch 23/60\n",
      "1762/1762 - 0s - loss: 15.2642 - accuracy: 0.0074\n",
      "Epoch 24/60\n",
      "1762/1762 - 0s - loss: 15.2642 - accuracy: 0.0074\n",
      "Epoch 25/60\n",
      "1762/1762 - 0s - loss: 15.2642 - accuracy: 0.0074\n",
      "Epoch 26/60\n",
      "1762/1762 - 0s - loss: 15.2642 - accuracy: 0.0074\n",
      "Epoch 27/60\n",
      "1762/1762 - 0s - loss: 15.2642 - accuracy: 0.0074\n",
      "Epoch 28/60\n",
      "1762/1762 - 0s - loss: 15.2642 - accuracy: 0.0074\n",
      "Epoch 29/60\n",
      "1762/1762 - 0s - loss: 15.2642 - accuracy: 0.0074\n",
      "Epoch 30/60\n",
      "1762/1762 - 0s - loss: 15.2642 - accuracy: 0.0074\n",
      "Epoch 31/60\n",
      "1762/1762 - 0s - loss: 15.2642 - accuracy: 0.0074\n",
      "Epoch 32/60\n",
      "1762/1762 - 0s - loss: 15.2642 - accuracy: 0.0074\n",
      "Epoch 33/60\n",
      "1762/1762 - 0s - loss: 15.2642 - accuracy: 0.0074\n",
      "Epoch 34/60\n",
      "1762/1762 - 0s - loss: 15.2642 - accuracy: 0.0074\n",
      "Epoch 35/60\n",
      "1762/1762 - 0s - loss: 15.2642 - accuracy: 0.0074\n",
      "Epoch 36/60\n",
      "1762/1762 - 0s - loss: 15.2642 - accuracy: 0.0074\n",
      "Epoch 37/60\n",
      "1762/1762 - 0s - loss: 15.2642 - accuracy: 0.0074\n",
      "Epoch 38/60\n",
      "1762/1762 - 0s - loss: 15.2642 - accuracy: 0.0074\n",
      "Epoch 39/60\n",
      "1762/1762 - 0s - loss: 15.2642 - accuracy: 0.0074\n",
      "Epoch 40/60\n",
      "1762/1762 - 0s - loss: 15.2642 - accuracy: 0.0074\n",
      "Epoch 41/60\n",
      "1762/1762 - 0s - loss: 15.2642 - accuracy: 0.0074\n",
      "Epoch 42/60\n",
      "1762/1762 - 0s - loss: 15.2642 - accuracy: 0.0074\n",
      "Epoch 43/60\n",
      "1762/1762 - 0s - loss: 15.2642 - accuracy: 0.0074\n",
      "Epoch 44/60\n",
      "1762/1762 - 0s - loss: 15.2642 - accuracy: 0.0074\n",
      "Epoch 45/60\n",
      "1762/1762 - 0s - loss: 15.2642 - accuracy: 0.0074\n",
      "Epoch 46/60\n",
      "1762/1762 - 0s - loss: 15.2642 - accuracy: 0.0074\n",
      "Epoch 47/60\n",
      "1762/1762 - 0s - loss: 15.2642 - accuracy: 0.0074\n",
      "Epoch 48/60\n",
      "1762/1762 - 0s - loss: 15.2642 - accuracy: 0.0074\n",
      "Epoch 49/60\n",
      "1762/1762 - 0s - loss: 15.2642 - accuracy: 0.0074\n",
      "Epoch 50/60\n",
      "1762/1762 - 0s - loss: 15.2642 - accuracy: 0.0074\n",
      "Epoch 51/60\n",
      "1762/1762 - 0s - loss: 15.2642 - accuracy: 0.0074\n",
      "Epoch 52/60\n",
      "1762/1762 - 0s - loss: 15.2642 - accuracy: 0.0074\n",
      "Epoch 53/60\n",
      "1762/1762 - 0s - loss: 15.2642 - accuracy: 0.0074\n",
      "Epoch 54/60\n",
      "1762/1762 - 0s - loss: 15.2642 - accuracy: 0.0074\n",
      "Epoch 55/60\n",
      "1762/1762 - 0s - loss: 15.2642 - accuracy: 0.0074\n",
      "Epoch 56/60\n",
      "1762/1762 - 0s - loss: 15.2642 - accuracy: 0.0074\n",
      "Epoch 57/60\n",
      "1762/1762 - 0s - loss: 15.2642 - accuracy: 0.0074\n",
      "Epoch 58/60\n",
      "1762/1762 - 0s - loss: 15.2642 - accuracy: 0.0074\n",
      "Epoch 59/60\n",
      "1762/1762 - 0s - loss: 15.2642 - accuracy: 0.0074\n",
      "Epoch 60/60\n",
      "1762/1762 - 0s - loss: 15.2642 - accuracy: 0.0074\n"
     ]
    },
    {
     "data": {
      "text/plain": [
       "<tensorflow.python.keras.callbacks.History at 0x1a53ff0b10>"
      ]
     },
     "execution_count": 264,
     "metadata": {},
     "output_type": "execute_result"
    }
   ],
   "source": [
    "model2.compile(optimizer='adam',\n",
    "              loss='mean_squared_logarithmic_error',\n",
    "              metrics=['accuracy'])\n",
    "model2.fit(\n",
    "    X_train,\n",
    "    Y_train,\n",
    "    epochs=60,\n",
    "    shuffle=True,\n",
    "    verbose=2\n",
    ")"
   ]
  },
  {
   "cell_type": "code",
   "execution_count": 265,
   "metadata": {},
   "outputs": [],
   "source": [
    "history = model2.fit(X_train, Y_train, validation_data=(X_test, Y_test), epochs=60, verbose=0)"
   ]
  },
  {
   "cell_type": "code",
   "execution_count": 266,
   "metadata": {},
   "outputs": [
    {
     "name": "stdout",
     "output_type": "stream",
     "text": [
      "Neural Network - Loss: 15.26421431109529, Accuracy: 0.0073779793456196785\n"
     ]
    }
   ],
   "source": [
    "model_loss, model_accuracy = model2.evaluate(\n",
    "    X_train, Y_train, verbose=0)\n",
    "print(\n",
    "    f\"Neural Network - Loss: {model_loss}, Accuracy: {model_accuracy}\")"
   ]
  },
  {
   "cell_type": "code",
   "execution_count": 267,
   "metadata": {},
   "outputs": [],
   "source": [
    "model2.save(\"covid_model_2_trained.h5\")"
   ]
  },
  {
   "cell_type": "code",
   "execution_count": 268,
   "metadata": {},
   "outputs": [],
   "source": [
    "from tensorflow.keras.models import load_model\n",
    "covid_model_2 = load_model(\"covid_model_2_trained.h5\")"
   ]
  },
  {
   "cell_type": "code",
   "execution_count": 269,
   "metadata": {},
   "outputs": [
    {
     "name": "stdout",
     "output_type": "stream",
     "text": [
      "Neural Network - Loss: 14.854078252479512, Accuracy: 0.011904762126505375\n"
     ]
    }
   ],
   "source": [
    "model_loss, model_accuracy = covid_model_2.evaluate(\n",
    "    X_test, Y_test, verbose=0)\n",
    "print(\n",
    "    f\"Neural Network - Loss: {model_loss}, Accuracy: {model_accuracy}\")"
   ]
  },
  {
   "cell_type": "code",
   "execution_count": 271,
   "metadata": {
    "scrolled": true
   },
   "outputs": [
    {
     "data": {
      "image/png": "[encoded data removed]",
      "text/plain": [
       "<Figure size 432x288 with 1 Axes>"
      ]
     },
     "metadata": {
      "needs_background": "light"
     },
     "output_type": "display_data"
    }
   ],
   "source": [
    "from matplotlib import pyplot\n",
    "pyplot.title('Loss / Mean Squared Logarithmic Error')\n",
    "pyplot.plot(history.history['loss'], label='train')\n",
    "pyplot.plot(history.history['val_loss'], label='test')\n",
    "pyplot.legend()\n",
    "pyplot.show()"
   ]
  },
  {
   "cell_type": "markdown",
   "metadata": {},
   "source": [
    "# MODEL 3 #"
   ]
  },
  {
   "cell_type": "code",
   "execution_count": 273,
   "metadata": {},
   "outputs": [],
   "source": [
    "# Model 3: Linear regression using confirmed (summed count) from SVI (both scaled) and mean squared error\n",
    "X = covsoc[['AREA_SQMI','E_HU', 'E_HH', 'E_POV', 'E_UNEMP', 'E_PCI', 'E_NOHSDP', 'E_AGE65', 'E_AGE17', 'E_DISABL', 'E_SNGPNT', 'E_MINRTY', 'E_LIMENG', 'E_MUNIT', 'E_MOBILE', 'E_CROWD', 'E_NOVEH', 'E_GROUPQ']]"
   ]
  },
  {
   "cell_type": "code",
   "execution_count": 274,
   "metadata": {},
   "outputs": [],
   "source": [
    "Y = covsoc['confirmed'].values.reshape(-1,1)"
   ]
  },
  {
   "cell_type": "code",
   "execution_count": 275,
   "metadata": {},
   "outputs": [],
   "source": [
    "# Train, test, split, and scale\n",
    "X_train, X_test, Y_train, Y_test = train_test_split(\n",
    "    X, Y, random_state=1)\n",
    "X_scaler = MinMaxScaler().fit(X_train)\n",
    "X_train_scaled = X_scaler.transform(X_train)\n",
    "X_test_scaled = X_scaler.transform(X_test)\n",
    "Y_scaler = StandardScaler().fit(Y_train)\n",
    "Y_train_scaled = Y_scaler.transform(Y_train)\n",
    "Y_test_scaled = Y_scaler.transform(Y_test)"
   ]
  },
  {
   "cell_type": "code",
   "execution_count": 276,
   "metadata": {},
   "outputs": [],
   "source": [
    "X_train_scaled = np.asarray(X_train_scaled)\n",
    "Y_train_scaled = np.asarray(Y_train_scaled)\n",
    "X_test_scaled = np.asarray(X_test_scaled)\n",
    "Y_test_scaled = np.asarray(Y_test_scaled)"
   ]
  },
  {
   "cell_type": "code",
   "execution_count": 277,
   "metadata": {},
   "outputs": [
    {
     "data": {
      "text/plain": [
       "(1888, 18)"
      ]
     },
     "execution_count": 277,
     "metadata": {},
     "output_type": "execute_result"
    }
   ],
   "source": [
    "X_train_scaled.shape"
   ]
  },
  {
   "cell_type": "code",
   "execution_count": 278,
   "metadata": {},
   "outputs": [
    {
     "data": {
      "text/plain": [
       "(630, 18)"
      ]
     },
     "execution_count": 278,
     "metadata": {},
     "output_type": "execute_result"
    }
   ],
   "source": [
    "X_test_scaled.shape"
   ]
  },
  {
   "cell_type": "code",
   "execution_count": 279,
   "metadata": {},
   "outputs": [
    {
     "data": {
      "text/plain": [
       "(1888, 1)"
      ]
     },
     "execution_count": 279,
     "metadata": {},
     "output_type": "execute_result"
    }
   ],
   "source": [
    "Y_train_scaled.shape"
   ]
  },
  {
   "cell_type": "code",
   "execution_count": 280,
   "metadata": {},
   "outputs": [
    {
     "data": {
      "text/plain": [
       "(630, 1)"
      ]
     },
     "execution_count": 280,
     "metadata": {},
     "output_type": "execute_result"
    }
   ],
   "source": [
    "Y_test_scaled.shape"
   ]
  },
  {
   "cell_type": "code",
   "execution_count": 281,
   "metadata": {},
   "outputs": [],
   "source": [
    "# Create an empty sequential model\n",
    "model3 = Sequential()"
   ]
  },
  {
   "cell_type": "code",
   "execution_count": 291,
   "metadata": {},
   "outputs": [],
   "source": [
    "model3.add(Dense(6, input_dim=18, activation='relu'))\n",
    "model3.add(Dense(units=3, activation='relu'))\n",
    "model3.add(Dense(units=1, activation='relu'))\n",
    "opt = SGD(lr=0.01, momentum=0.9)"
   ]
  },
  {
   "cell_type": "code",
   "execution_count": 292,
   "metadata": {},
   "outputs": [
    {
     "name": "stdout",
     "output_type": "stream",
     "text": [
      "Model: \"sequential_13\"\n",
      "_________________________________________________________________\n",
      "Layer (type)                 Output Shape              Param #   \n",
      "=================================================================\n",
      "dense_83 (Dense)             (None, 18)                342       \n",
      "_________________________________________________________________\n",
      "dense_84 (Dense)             (None, 4)                 76        \n",
      "_________________________________________________________________\n",
      "dense_85 (Dense)             (None, 1)                 5         \n",
      "_________________________________________________________________\n",
      "dense_86 (Dense)             (None, 6)                 12        \n",
      "_________________________________________________________________\n",
      "dense_87 (Dense)             (None, 3)                 21        \n",
      "_________________________________________________________________\n",
      "dense_88 (Dense)             (None, 1)                 4         \n",
      "=================================================================\n",
      "Total params: 423\n",
      "Trainable params: 423\n",
      "Non-trainable params: 0\n",
      "_________________________________________________________________\n"
     ]
    }
   ],
   "source": [
    "model3.summary()"
   ]
  },
  {
   "cell_type": "code",
   "execution_count": 293,
   "metadata": {
    "scrolled": false
   },
   "outputs": [
    {
     "name": "stdout",
     "output_type": "stream",
     "text": [
      "Train on 1888 samples\n",
      "Epoch 1/60\n",
      "1888/1888 - 1s - loss: 0.6483 - accuracy: 0.0000e+00\n",
      "Epoch 2/60\n",
      "1888/1888 - 0s - loss: 0.4976 - accuracy: 0.0000e+00\n",
      "Epoch 3/60\n",
      "1888/1888 - 0s - loss: 0.4399 - accuracy: 0.0000e+00\n",
      "Epoch 4/60\n",
      "1888/1888 - 0s - loss: 0.4176 - accuracy: 0.0000e+00\n",
      "Epoch 5/60\n",
      "1888/1888 - 0s - loss: 0.4040 - accuracy: 0.0000e+00\n",
      "Epoch 6/60\n",
      "1888/1888 - 0s - loss: 0.3932 - accuracy: 0.0000e+00\n",
      "Epoch 7/60\n",
      "1888/1888 - 0s - loss: 0.3861 - accuracy: 0.0000e+00\n",
      "Epoch 8/60\n",
      "1888/1888 - 0s - loss: 0.3815 - accuracy: 0.0000e+00\n",
      "Epoch 9/60\n",
      "1888/1888 - 0s - loss: 0.3761 - accuracy: 0.0000e+00\n",
      "Epoch 10/60\n",
      "1888/1888 - 0s - loss: 0.3730 - accuracy: 0.0000e+00\n",
      "Epoch 11/60\n",
      "1888/1888 - 0s - loss: 0.3722 - accuracy: 0.0000e+00\n",
      "Epoch 12/60\n",
      "1888/1888 - 0s - loss: 0.3630 - accuracy: 0.0000e+00\n",
      "Epoch 13/60\n",
      "1888/1888 - 0s - loss: 0.3623 - accuracy: 0.0000e+00\n",
      "Epoch 14/60\n",
      "1888/1888 - 0s - loss: 0.3655 - accuracy: 0.0000e+00\n",
      "Epoch 15/60\n",
      "1888/1888 - 0s - loss: 0.3630 - accuracy: 0.0000e+00\n",
      "Epoch 16/60\n",
      "1888/1888 - 0s - loss: 0.3668 - accuracy: 0.0000e+00\n",
      "Epoch 17/60\n",
      "1888/1888 - 0s - loss: 0.3656 - accuracy: 0.0000e+00\n",
      "Epoch 18/60\n",
      "1888/1888 - 0s - loss: 0.3585 - accuracy: 0.0000e+00\n",
      "Epoch 19/60\n",
      "1888/1888 - 0s - loss: 0.3579 - accuracy: 0.0000e+00\n",
      "Epoch 20/60\n",
      "1888/1888 - 0s - loss: 0.3565 - accuracy: 0.0000e+00\n",
      "Epoch 21/60\n",
      "1888/1888 - 0s - loss: 0.3578 - accuracy: 0.0000e+00\n",
      "Epoch 22/60\n",
      "1888/1888 - 0s - loss: 0.3587 - accuracy: 0.0000e+00\n",
      "Epoch 23/60\n",
      "1888/1888 - 0s - loss: 0.3621 - accuracy: 0.0000e+00\n",
      "Epoch 24/60\n",
      "1888/1888 - 0s - loss: 0.3543 - accuracy: 0.0000e+00\n",
      "Epoch 25/60\n",
      "1888/1888 - 0s - loss: 0.3536 - accuracy: 0.0000e+00\n",
      "Epoch 26/60\n",
      "1888/1888 - 0s - loss: 0.3545 - accuracy: 0.0000e+00\n",
      "Epoch 27/60\n",
      "1888/1888 - 0s - loss: 0.3545 - accuracy: 0.0000e+00\n",
      "Epoch 28/60\n",
      "1888/1888 - 0s - loss: 0.3524 - accuracy: 0.0000e+00\n",
      "Epoch 29/60\n",
      "1888/1888 - 0s - loss: 0.3548 - accuracy: 0.0000e+00\n",
      "Epoch 30/60\n",
      "1888/1888 - 0s - loss: 0.3491 - accuracy: 0.0000e+00\n",
      "Epoch 31/60\n",
      "1888/1888 - 0s - loss: 0.3491 - accuracy: 0.0000e+00\n",
      "Epoch 32/60\n",
      "1888/1888 - 0s - loss: 0.3501 - accuracy: 0.0000e+00\n",
      "Epoch 33/60\n",
      "1888/1888 - 0s - loss: 0.3490 - accuracy: 0.0000e+00\n",
      "Epoch 34/60\n",
      "1888/1888 - 0s - loss: 0.3554 - accuracy: 0.0000e+00\n",
      "Epoch 35/60\n",
      "1888/1888 - 0s - loss: 0.3493 - accuracy: 0.0000e+00\n",
      "Epoch 36/60\n",
      "1888/1888 - 0s - loss: 0.3502 - accuracy: 0.0000e+00\n",
      "Epoch 37/60\n",
      "1888/1888 - 0s - loss: 0.3470 - accuracy: 0.0000e+00\n",
      "Epoch 38/60\n",
      "1888/1888 - 0s - loss: 0.3454 - accuracy: 0.0000e+00\n",
      "Epoch 39/60\n",
      "1888/1888 - 0s - loss: 0.3451 - accuracy: 0.0000e+00\n",
      "Epoch 40/60\n",
      "1888/1888 - 0s - loss: 0.3497 - accuracy: 0.0000e+00\n",
      "Epoch 41/60\n",
      "1888/1888 - 0s - loss: 0.3465 - accuracy: 0.0000e+00\n",
      "Epoch 42/60\n",
      "1888/1888 - 0s - loss: 0.3430 - accuracy: 0.0000e+00\n",
      "Epoch 43/60\n",
      "1888/1888 - 0s - loss: 0.3442 - accuracy: 0.0000e+00\n",
      "Epoch 44/60\n",
      "1888/1888 - 0s - loss: 0.3417 - accuracy: 0.0000e+00\n",
      "Epoch 45/60\n",
      "1888/1888 - 0s - loss: 0.3431 - accuracy: 0.0000e+00\n",
      "Epoch 46/60\n",
      "1888/1888 - 0s - loss: 0.3454 - accuracy: 0.0000e+00\n",
      "Epoch 47/60\n",
      "1888/1888 - 0s - loss: 0.3449 - accuracy: 0.0000e+00\n",
      "Epoch 48/60\n",
      "1888/1888 - 0s - loss: 0.3418 - accuracy: 0.0000e+00\n",
      "Epoch 49/60\n",
      "1888/1888 - 0s - loss: 0.3449 - accuracy: 0.0000e+00\n",
      "Epoch 50/60\n",
      "1888/1888 - 0s - loss: 0.3403 - accuracy: 0.0000e+00\n",
      "Epoch 51/60\n",
      "1888/1888 - 0s - loss: 0.3412 - accuracy: 0.0000e+00\n",
      "Epoch 52/60\n",
      "1888/1888 - 0s - loss: 0.3436 - accuracy: 0.0000e+00\n",
      "Epoch 53/60\n",
      "1888/1888 - 0s - loss: 0.3446 - accuracy: 0.0000e+00\n",
      "Epoch 54/60\n",
      "1888/1888 - 0s - loss: 0.3392 - accuracy: 0.0000e+00\n",
      "Epoch 55/60\n",
      "1888/1888 - 0s - loss: 0.3385 - accuracy: 0.0000e+00\n",
      "Epoch 56/60\n",
      "1888/1888 - 0s - loss: 0.3360 - accuracy: 0.0000e+00\n",
      "Epoch 57/60\n",
      "1888/1888 - 0s - loss: 0.3389 - accuracy: 0.0000e+00\n",
      "Epoch 58/60\n",
      "1888/1888 - 0s - loss: 0.3389 - accuracy: 0.0000e+00\n",
      "Epoch 59/60\n",
      "1888/1888 - 0s - loss: 0.3357 - accuracy: 0.0000e+00\n",
      "Epoch 60/60\n",
      "1888/1888 - 0s - loss: 0.3402 - accuracy: 0.0000e+00\n"
     ]
    },
    {
     "data": {
      "text/plain": [
       "<tensorflow.python.keras.callbacks.History at 0x1a55fb5a10>"
      ]
     },
     "execution_count": 293,
     "metadata": {},
     "output_type": "execute_result"
    }
   ],
   "source": [
    "model3.compile(optimizer='adam',\n",
    "              loss='mean_squared_error',\n",
    "              metrics=['accuracy'])\n",
    "model3.fit(\n",
    "    X_train_scaled,\n",
    "    Y_train_scaled,\n",
    "    epochs=60,\n",
    "    shuffle=True,\n",
    "    verbose=2\n",
    ")"
   ]
  },
  {
   "cell_type": "code",
   "execution_count": 294,
   "metadata": {},
   "outputs": [],
   "source": [
    "history = model3.fit(X_train_scaled, Y_train_scaled, validation_data=(X_test_scaled, Y_test_scaled), epochs=60, verbose=0)"
   ]
  },
  {
   "cell_type": "code",
   "execution_count": 295,
   "metadata": {},
   "outputs": [
    {
     "name": "stdout",
     "output_type": "stream",
     "text": [
      "Neural Network - Loss: 0.29175996313155705, Accuracy: 0.0\n"
     ]
    }
   ],
   "source": [
    "model_loss, model_accuracy = model3.evaluate(\n",
    "    X_train_scaled, Y_train_scaled, verbose=0)\n",
    "print(\n",
    "    f\"Neural Network - Loss: {model_loss}, Accuracy: {model_accuracy}\")"
   ]
  },
  {
   "cell_type": "code",
   "execution_count": 296,
   "metadata": {},
   "outputs": [],
   "source": [
    "model3.save(\"covid_model_3_trained.h5\")"
   ]
  },
  {
   "cell_type": "code",
   "execution_count": 297,
   "metadata": {},
   "outputs": [],
   "source": [
    "from tensorflow.keras.models import load_model\n",
    "covid_model_3 = load_model(\"covid_model_3_trained.h5\")"
   ]
  },
  {
   "cell_type": "code",
   "execution_count": 298,
   "metadata": {},
   "outputs": [
    {
     "name": "stdout",
     "output_type": "stream",
     "text": [
      "Neural Network - Loss: 13.01806462783189, Accuracy: 0.0\n"
     ]
    }
   ],
   "source": [
    "model_loss, model_accuracy = covid_model_3.evaluate(\n",
    "    X_test_scaled, Y_test_scaled, verbose=0)\n",
    "print(\n",
    "    f\"Neural Network - Loss: {model_loss}, Accuracy: {model_accuracy}\")"
   ]
  },
  {
   "cell_type": "code",
   "execution_count": 299,
   "metadata": {
    "scrolled": true
   },
   "outputs": [
    {
     "data": {
      "image/png": "[encoded data removed]",
      "text/plain": [
       "<Figure size 432x288 with 1 Axes>"
      ]
     },
     "metadata": {
      "needs_background": "light"
     },
     "output_type": "display_data"
    }
   ],
   "source": [
    "from matplotlib import pyplot\n",
    "pyplot.title('Loss / Mean Squared Error')\n",
    "pyplot.plot(history.history['loss'], label='train')\n",
    "pyplot.plot(history.history['val_loss'], label='test')\n",
    "pyplot.legend()\n",
    "pyplot.show()"
   ]
  },
  {
   "cell_type": "markdown",
   "metadata": {},
   "source": [
    "# MODEL 4 #"
   ]
  },
  {
   "cell_type": "code",
   "execution_count": 300,
   "metadata": {},
   "outputs": [],
   "source": [
    "# Model 4: Linear regression using confirmed (summed count) from SVI (both scaled) and mean squared logarithmic error\n",
    "X = covsoc[['AREA_SQMI','E_HU', 'E_HH', 'E_POV', 'E_UNEMP', 'E_PCI', 'E_NOHSDP', 'E_AGE65', 'E_AGE17', 'E_DISABL', 'E_SNGPNT', 'E_MINRTY', 'E_LIMENG', 'E_MUNIT', 'E_MOBILE', 'E_CROWD', 'E_NOVEH', 'E_GROUPQ']]"
   ]
  },
  {
   "cell_type": "code",
   "execution_count": 301,
   "metadata": {},
   "outputs": [],
   "source": [
    "Y = covsoc['confirmed'].values.reshape(-1,1)"
   ]
  },
  {
   "cell_type": "code",
   "execution_count": 302,
   "metadata": {},
   "outputs": [],
   "source": [
    "# Train, test, split, and scale\n",
    "X_train, X_test, Y_train, Y_test = train_test_split(\n",
    "    X, Y, random_state=1)\n",
    "X_scaler = MinMaxScaler().fit(X_train)\n",
    "X_train_scaled = X_scaler.transform(X_train)\n",
    "X_test_scaled = X_scaler.transform(X_test)\n",
    "Y_scaler = StandardScaler().fit(Y_train)\n",
    "Y_train_scaled = Y_scaler.transform(Y_train)\n",
    "Y_test_scaled = Y_scaler.transform(Y_test)"
   ]
  },
  {
   "cell_type": "code",
   "execution_count": 303,
   "metadata": {},
   "outputs": [],
   "source": [
    "X_train_scaled = np.asarray(X_train_scaled)\n",
    "Y_train_scaled = np.asarray(Y_train_scaled)\n",
    "X_test_scaled = np.asarray(X_test_scaled)\n",
    "Y_test_scaled = np.asarray(Y_test_scaled)"
   ]
  },
  {
   "cell_type": "code",
   "execution_count": 304,
   "metadata": {},
   "outputs": [
    {
     "data": {
      "text/plain": [
       "(1888, 18)"
      ]
     },
     "execution_count": 304,
     "metadata": {},
     "output_type": "execute_result"
    }
   ],
   "source": [
    "X_train_scaled.shape"
   ]
  },
  {
   "cell_type": "code",
   "execution_count": 305,
   "metadata": {},
   "outputs": [
    {
     "data": {
      "text/plain": [
       "(630, 18)"
      ]
     },
     "execution_count": 305,
     "metadata": {},
     "output_type": "execute_result"
    }
   ],
   "source": [
    "X_test_scaled.shape"
   ]
  },
  {
   "cell_type": "code",
   "execution_count": 306,
   "metadata": {},
   "outputs": [
    {
     "data": {
      "text/plain": [
       "(1888, 1)"
      ]
     },
     "execution_count": 306,
     "metadata": {},
     "output_type": "execute_result"
    }
   ],
   "source": [
    "Y_train_scaled.shape"
   ]
  },
  {
   "cell_type": "code",
   "execution_count": 307,
   "metadata": {},
   "outputs": [
    {
     "data": {
      "text/plain": [
       "(630, 1)"
      ]
     },
     "execution_count": 307,
     "metadata": {},
     "output_type": "execute_result"
    }
   ],
   "source": [
    "Y_test_scaled.shape"
   ]
  },
  {
   "cell_type": "code",
   "execution_count": 308,
   "metadata": {},
   "outputs": [],
   "source": [
    "# Create an empty sequential model\n",
    "model4 = Sequential()"
   ]
  },
  {
   "cell_type": "code",
   "execution_count": 309,
   "metadata": {},
   "outputs": [],
   "source": [
    "model4.add(Dense(6, input_dim=18, activation='relu'))\n",
    "model4.add(Dense(units=3, activation='relu'))\n",
    "model4.add(Dense(units=1, activation='relu'))\n",
    "opt = SGD(lr=0.01, momentum=0.9)"
   ]
  },
  {
   "cell_type": "code",
   "execution_count": 310,
   "metadata": {},
   "outputs": [
    {
     "name": "stdout",
     "output_type": "stream",
     "text": [
      "Model: \"sequential_14\"\n",
      "_________________________________________________________________\n",
      "Layer (type)                 Output Shape              Param #   \n",
      "=================================================================\n",
      "dense_89 (Dense)             (None, 6)                 114       \n",
      "_________________________________________________________________\n",
      "dense_90 (Dense)             (None, 3)                 21        \n",
      "_________________________________________________________________\n",
      "dense_91 (Dense)             (None, 1)                 4         \n",
      "=================================================================\n",
      "Total params: 139\n",
      "Trainable params: 139\n",
      "Non-trainable params: 0\n",
      "_________________________________________________________________\n"
     ]
    }
   ],
   "source": [
    "model4.summary()"
   ]
  },
  {
   "cell_type": "code",
   "execution_count": 311,
   "metadata": {
    "scrolled": false
   },
   "outputs": [
    {
     "name": "stdout",
     "output_type": "stream",
     "text": [
      "Train on 1888 samples\n",
      "Epoch 1/60\n",
      "1888/1888 - 1s - loss: 0.0663 - accuracy: 0.0000e+00\n",
      "Epoch 2/60\n",
      "1888/1888 - 0s - loss: 0.0586 - accuracy: 0.0000e+00\n",
      "Epoch 3/60\n",
      "1888/1888 - 0s - loss: 0.0529 - accuracy: 0.0000e+00\n",
      "Epoch 4/60\n",
      "1888/1888 - 0s - loss: 0.0485 - accuracy: 0.0000e+00\n",
      "Epoch 5/60\n",
      "1888/1888 - 0s - loss: 0.0449 - accuracy: 0.0000e+00\n",
      "Epoch 6/60\n",
      "1888/1888 - 0s - loss: 0.0420 - accuracy: 0.0000e+00\n",
      "Epoch 7/60\n",
      "1888/1888 - 0s - loss: 0.0396 - accuracy: 0.0000e+00\n",
      "Epoch 8/60\n",
      "1888/1888 - 0s - loss: 0.0378 - accuracy: 0.0000e+00\n",
      "Epoch 9/60\n",
      "1888/1888 - 0s - loss: 0.0361 - accuracy: 0.0000e+00\n",
      "Epoch 10/60\n",
      "1888/1888 - 0s - loss: 0.0349 - accuracy: 0.0000e+00\n",
      "Epoch 11/60\n",
      "1888/1888 - 0s - loss: 0.0338 - accuracy: 0.0000e+00\n",
      "Epoch 12/60\n",
      "1888/1888 - 0s - loss: 0.0329 - accuracy: 0.0000e+00\n",
      "Epoch 13/60\n",
      "1888/1888 - 0s - loss: 0.0323 - accuracy: 0.0000e+00\n",
      "Epoch 14/60\n",
      "1888/1888 - 0s - loss: 0.0318 - accuracy: 0.0000e+00\n",
      "Epoch 15/60\n",
      "1888/1888 - 0s - loss: 0.0313 - accuracy: 0.0000e+00\n",
      "Epoch 16/60\n",
      "1888/1888 - 0s - loss: 0.0309 - accuracy: 0.0000e+00\n",
      "Epoch 17/60\n",
      "1888/1888 - 0s - loss: 0.0307 - accuracy: 0.0000e+00\n",
      "Epoch 18/60\n",
      "1888/1888 - 0s - loss: 0.0304 - accuracy: 0.0000e+00\n",
      "Epoch 19/60\n",
      "1888/1888 - 0s - loss: 0.0301 - accuracy: 0.0000e+00\n",
      "Epoch 20/60\n",
      "1888/1888 - 0s - loss: 0.0299 - accuracy: 0.0000e+00\n",
      "Epoch 21/60\n",
      "1888/1888 - 0s - loss: 0.0297 - accuracy: 0.0000e+00\n",
      "Epoch 22/60\n",
      "1888/1888 - 0s - loss: 0.0294 - accuracy: 0.0000e+00\n",
      "Epoch 23/60\n",
      "1888/1888 - 0s - loss: 0.0293 - accuracy: 0.0000e+00\n",
      "Epoch 24/60\n",
      "1888/1888 - 0s - loss: 0.0291 - accuracy: 0.0000e+00\n",
      "Epoch 25/60\n",
      "1888/1888 - 0s - loss: 0.0291 - accuracy: 0.0000e+00\n",
      "Epoch 26/60\n",
      "1888/1888 - 0s - loss: 0.0288 - accuracy: 0.0000e+00\n",
      "Epoch 27/60\n",
      "1888/1888 - 0s - loss: 0.0287 - accuracy: 0.0000e+00\n",
      "Epoch 28/60\n",
      "1888/1888 - 0s - loss: 0.0286 - accuracy: 0.0000e+00\n",
      "Epoch 29/60\n",
      "1888/1888 - 0s - loss: 0.0286 - accuracy: 0.0000e+00\n",
      "Epoch 30/60\n",
      "1888/1888 - 0s - loss: 0.0284 - accuracy: 0.0000e+00\n",
      "Epoch 31/60\n",
      "1888/1888 - 0s - loss: 0.0283 - accuracy: 0.0000e+00\n",
      "Epoch 32/60\n",
      "1888/1888 - 0s - loss: 0.0283 - accuracy: 0.0000e+00\n",
      "Epoch 33/60\n",
      "1888/1888 - 0s - loss: 0.0282 - accuracy: 0.0000e+00\n",
      "Epoch 34/60\n",
      "1888/1888 - 0s - loss: 0.0280 - accuracy: 0.0000e+00\n",
      "Epoch 35/60\n",
      "1888/1888 - 0s - loss: 0.0280 - accuracy: 0.0000e+00\n",
      "Epoch 36/60\n",
      "1888/1888 - 0s - loss: 0.0280 - accuracy: 0.0000e+00\n",
      "Epoch 37/60\n",
      "1888/1888 - 0s - loss: 0.0280 - accuracy: 0.0000e+00\n",
      "Epoch 38/60\n",
      "1888/1888 - 0s - loss: 0.0278 - accuracy: 0.0000e+00\n",
      "Epoch 39/60\n",
      "1888/1888 - 0s - loss: 0.0278 - accuracy: 0.0000e+00\n",
      "Epoch 40/60\n",
      "1888/1888 - 0s - loss: 0.0279 - accuracy: 0.0000e+00\n",
      "Epoch 41/60\n",
      "1888/1888 - 0s - loss: 0.0279 - accuracy: 0.0000e+00\n",
      "Epoch 42/60\n",
      "1888/1888 - 0s - loss: 0.0276 - accuracy: 0.0000e+00\n",
      "Epoch 43/60\n",
      "1888/1888 - 0s - loss: 0.0276 - accuracy: 0.0000e+00\n",
      "Epoch 44/60\n",
      "1888/1888 - 0s - loss: 0.0275 - accuracy: 0.0000e+00\n",
      "Epoch 45/60\n",
      "1888/1888 - 0s - loss: 0.0275 - accuracy: 0.0000e+00\n",
      "Epoch 46/60\n",
      "1888/1888 - 0s - loss: 0.0274 - accuracy: 0.0000e+00\n",
      "Epoch 47/60\n",
      "1888/1888 - 0s - loss: 0.0273 - accuracy: 0.0000e+00\n",
      "Epoch 48/60\n",
      "1888/1888 - 0s - loss: 0.0273 - accuracy: 0.0000e+00\n",
      "Epoch 49/60\n",
      "1888/1888 - 0s - loss: 0.0272 - accuracy: 0.0000e+00\n",
      "Epoch 50/60\n",
      "1888/1888 - 0s - loss: 0.0272 - accuracy: 0.0000e+00\n",
      "Epoch 51/60\n",
      "1888/1888 - 0s - loss: 0.0271 - accuracy: 0.0000e+00\n",
      "Epoch 52/60\n",
      "1888/1888 - 0s - loss: 0.0271 - accuracy: 0.0000e+00\n",
      "Epoch 53/60\n",
      "1888/1888 - 0s - loss: 0.0270 - accuracy: 0.0000e+00\n",
      "Epoch 54/60\n",
      "1888/1888 - 0s - loss: 0.0269 - accuracy: 0.0000e+00\n",
      "Epoch 55/60\n",
      "1888/1888 - 0s - loss: 0.0269 - accuracy: 0.0000e+00\n",
      "Epoch 56/60\n",
      "1888/1888 - 0s - loss: 0.0269 - accuracy: 0.0000e+00\n",
      "Epoch 57/60\n",
      "1888/1888 - 0s - loss: 0.0268 - accuracy: 0.0000e+00\n",
      "Epoch 58/60\n",
      "1888/1888 - 0s - loss: 0.0267 - accuracy: 0.0000e+00\n",
      "Epoch 59/60\n",
      "1888/1888 - 0s - loss: 0.0269 - accuracy: 0.0000e+00\n",
      "Epoch 60/60\n",
      "1888/1888 - 0s - loss: 0.0266 - accuracy: 0.0000e+00\n"
     ]
    },
    {
     "data": {
      "text/plain": [
       "<tensorflow.python.keras.callbacks.History at 0x1a57b45e10>"
      ]
     },
     "execution_count": 311,
     "metadata": {},
     "output_type": "execute_result"
    }
   ],
   "source": [
    "model4.compile(optimizer='adam',\n",
    "              loss='mean_squared_logarithmic_error',\n",
    "              metrics=['accuracy'])\n",
    "model4.fit(\n",
    "    X_train_scaled,\n",
    "    Y_train_scaled,\n",
    "    epochs=60,\n",
    "    shuffle=True,\n",
    "    verbose=2\n",
    ")"
   ]
  },
  {
   "cell_type": "code",
   "execution_count": 312,
   "metadata": {},
   "outputs": [],
   "source": [
    "history = model4.fit(X_train_scaled, Y_train_scaled, validation_data=(X_test_scaled, Y_test_scaled), epochs=60, verbose=0)"
   ]
  },
  {
   "cell_type": "code",
   "execution_count": 313,
   "metadata": {},
   "outputs": [
    {
     "name": "stdout",
     "output_type": "stream",
     "text": [
      "Neural Network - Loss: 0.024086755274704233, Accuracy: 0.0\n"
     ]
    }
   ],
   "source": [
    "model_loss, model_accuracy = model4.evaluate(\n",
    "    X_train_scaled, Y_train_scaled, verbose=0)\n",
    "print(\n",
    "    f\"Neural Network - Loss: {model_loss}, Accuracy: {model_accuracy}\")"
   ]
  },
  {
   "cell_type": "code",
   "execution_count": 314,
   "metadata": {},
   "outputs": [],
   "source": [
    "model4.save(\"covid_model_4_trained.h5\")"
   ]
  },
  {
   "cell_type": "code",
   "execution_count": 315,
   "metadata": {},
   "outputs": [],
   "source": [
    "from tensorflow.keras.models import load_model\n",
    "covid_model_4 = load_model(\"covid_model_4_trained.h5\")"
   ]
  },
  {
   "cell_type": "code",
   "execution_count": 316,
   "metadata": {},
   "outputs": [
    {
     "name": "stdout",
     "output_type": "stream",
     "text": [
      "Neural Network - Loss: 0.03320870632305741, Accuracy: 0.0\n"
     ]
    }
   ],
   "source": [
    "model_loss, model_accuracy = covid_model_4.evaluate(\n",
    "    X_test_scaled, Y_test_scaled, verbose=0)\n",
    "print(\n",
    "    f\"Neural Network - Loss: {model_loss}, Accuracy: {model_accuracy}\")"
   ]
  },
  {
   "cell_type": "code",
   "execution_count": 317,
   "metadata": {
    "scrolled": true
   },
   "outputs": [
    {
     "data": {
      "image/png": "[encoded data removed]",
      "text/plain": [
       "<Figure size 432x288 with 1 Axes>"
      ]
     },
     "metadata": {
      "needs_background": "light"
     },
     "output_type": "display_data"
    }
   ],
   "source": [
    "from matplotlib import pyplot\n",
    "pyplot.title('Loss / Mean Squared Logarithmic Error')\n",
    "pyplot.plot(history.history['loss'], label='train')\n",
    "pyplot.plot(history.history['val_loss'], label='test')\n",
    "pyplot.legend()\n",
    "pyplot.show()"
   ]
  },
  {
   "cell_type": "markdown",
   "metadata": {},
   "source": [
    "# MODEL 5 #"
   ]
  },
  {
   "cell_type": "code",
   "execution_count": null,
   "metadata": {},
   "outputs": [],
   "source": []
  },
  {
   "cell_type": "code",
   "execution_count": null,
   "metadata": {},
   "outputs": [],
   "source": []
  },
  {
   "cell_type": "code",
   "execution_count": null,
   "metadata": {},
   "outputs": [],
   "source": []
  },
  {
   "cell_type": "code",
   "execution_count": null,
   "metadata": {},
   "outputs": [],
   "source": []
  },
  {
   "cell_type": "code",
   "execution_count": null,
   "metadata": {},
   "outputs": [],
   "source": []
  },
  {
   "cell_type": "code",
   "execution_count": null,
   "metadata": {},
   "outputs": [],
   "source": []
  }
 ],
 "metadata": {
  "kernelspec": {
   "display_name": "Python 3.7.6 64-bit ('PythonData': conda)",
   "language": "python",
   "name": "python37664bitpythondataconda7acc8f02ce504f3db755a3a57bbde654"
  },
  "language_info": {
   "codemirror_mode": {
    "name": "ipython",
    "version": 3
   },
   "file_extension": ".py",
   "mimetype": "text/x-python",
   "name": "python",
   "nbconvert_exporter": "python",
   "pygments_lexer": "ipython3",
   "version": "3.7.6"
  }
 },
 "nbformat": 4,
 "nbformat_minor": 4
}
